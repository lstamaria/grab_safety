{
 "cells": [
  {
   "cell_type": "markdown",
   "metadata": {},
   "source": [
    "# ML with Dask"
   ]
  },
  {
   "cell_type": "markdown",
   "metadata": {},
   "source": [
    "In this section, we work with the [GDELT](https://blog.gdeltproject.org/gdelt-2-0-our-global-world-in-realtime) events data, which is a listing of events around the world extracted from monitored news sites. We restrict it to events on 1 January 2018.\n",
    "\n",
    "Unfortunately, dask dataframe `read_csv` does not support reading zipped CSV files, only gzipped CSV. Instead, we call `pd.read_csv` on each file, thus each CSV file should fit on memory. Instead of immediately calling `pd.read_csv`, however, we pass it to `delayed` first. This creates a dask graph instead which can then be converted to a dask dataframe."
   ]
  },
  {
   "cell_type": "code",
   "execution_count": null,
   "metadata": {},
   "outputs": [],
   "source": []
  },
  {
   "cell_type": "code",
   "execution_count": 1,
   "metadata": {
    "ExecuteTime": {
     "end_time": "2018-10-03T06:28:05.025172Z",
     "start_time": "2018-10-03T06:27:59.326008Z"
    }
   },
   "outputs": [
    {
     "name": "stdout",
     "output_type": "stream",
     "text": [
      "[########################################] | 100% Completed |  0.1s\n",
      "[########################################] | 100% Completed |  4.4s\n"
     ]
    }
   ],
   "source": [
    "import glob\n",
    "import pandas as pd\n",
    "import dask.dataframe as dd\n",
    "from dask.diagnostics import ProgressBar\n",
    "from dask.delayed import delayed\n",
    "\n",
    "events_columns = ['GlobalEventID', 'Day', 'MonthYear', 'Year', 'FractionDate',\n",
    "                  'Actor1Code', 'Actor1Name', 'Actor1CountryCode', \n",
    "                  'Actor1KnownGroupCode', 'Actor1EthnicCode', \n",
    "                  'Actor1Religion1Code', 'Actor1Religion2Code',\n",
    "                  'Actor1Type1Code', 'Actor1Type2Code', 'Actor1Type3Code',\n",
    "                  'Actor2Code', 'Actor2Name', 'Actor2CountryCode', \n",
    "                  'Actor2KnownGroupCode', 'Actor2EthnicCode', \n",
    "                  'Actor2Religion1Code', 'Actor2Religion2Code',\n",
    "                  'Actor2Type1Code', 'Actor2Type2Code', 'Actor2Type3Code',\n",
    "                  'IsRootEvent', 'EventCode', 'EventBaseCode', \n",
    "                  'EventRootCode', 'QuadClass', 'GoldsteinScale', \n",
    "                  'NumMentions', 'NumSources', 'NumArticles', 'AvgTone', \n",
    "                  'Actor1Geo_Type', 'Actor1Geo_Fullname', \n",
    "                  'Actor1Geo_CountryCode', 'Actor1Geo_ADM1Code', \n",
    "                  'Actor1Geo_ADM2Code', 'Actor1Geo_Lat', 'Actor1Geo_Long', \n",
    "                  'Actor1Geo_FeatureID', 'Actor2Geo_Type', \n",
    "                  'Actor2Geo_Fullname', 'Actor2Geo_CountryCode', \n",
    "                  'Actor2Geo_ADM1Code', 'Actor2Geo_ADM2Code',\n",
    "                  'Actor2Geo_Lat', 'Actor2Geo_Long', 'Actor2Geo_FeatureID',\n",
    "                  'ActionGeo_Type', 'ActionGeo_Fullname', \n",
    "                  'ActionGeo_CountryCode', 'ActionGeo_ADM1Code', \n",
    "                  'ActionGeo_ADM2Code', 'ActionGeo_Lat', 'ActionGeo_Long', \n",
    "                  'ActionGeo_FeatureID', 'DATEADDED', 'SOURCEURL']\n",
    "\n",
    "pbar = ProgressBar()\n",
    "pbar.register()\n",
    "\n",
    "filenames = glob.glob('/mnt/data/public/gdeltv2/20180101*.export.CSV.zip')\n",
    "dfs = [delayed(pd.read_csv)(fn, delimiter='\\t', header=None, \n",
    "                            names=events_columns, dtype='str')\n",
    "       for fn in filenames]\n",
    "\n",
    "df = dd.from_delayed(dfs).set_index('GlobalEventID')"
   ]
  },
  {
   "cell_type": "markdown",
   "metadata": {},
   "source": [
    "Here are the first few rows."
   ]
  },
  {
   "cell_type": "code",
   "execution_count": 2,
   "metadata": {
    "ExecuteTime": {
     "end_time": "2018-10-03T06:28:11.364540Z",
     "start_time": "2018-10-03T06:28:05.029018Z"
    }
   },
   "outputs": [
    {
     "name": "stdout",
     "output_type": "stream",
     "text": [
      "[########################################] | 100% Completed |  6.3s\n"
     ]
    },
    {
     "data": {
      "text/html": [
       "<div>\n",
       "<style scoped>\n",
       "    .dataframe tbody tr th:only-of-type {\n",
       "        vertical-align: middle;\n",
       "    }\n",
       "\n",
       "    .dataframe tbody tr th {\n",
       "        vertical-align: top;\n",
       "    }\n",
       "\n",
       "    .dataframe thead th {\n",
       "        text-align: right;\n",
       "    }\n",
       "</style>\n",
       "<table border=\"1\" class=\"dataframe\">\n",
       "  <thead>\n",
       "    <tr style=\"text-align: right;\">\n",
       "      <th></th>\n",
       "      <th>Day</th>\n",
       "      <th>MonthYear</th>\n",
       "      <th>Year</th>\n",
       "      <th>FractionDate</th>\n",
       "      <th>Actor1Code</th>\n",
       "      <th>Actor1Name</th>\n",
       "      <th>Actor1CountryCode</th>\n",
       "      <th>Actor1KnownGroupCode</th>\n",
       "      <th>Actor1EthnicCode</th>\n",
       "      <th>Actor1Religion1Code</th>\n",
       "      <th>...</th>\n",
       "      <th>ActionGeo_Type</th>\n",
       "      <th>ActionGeo_Fullname</th>\n",
       "      <th>ActionGeo_CountryCode</th>\n",
       "      <th>ActionGeo_ADM1Code</th>\n",
       "      <th>ActionGeo_ADM2Code</th>\n",
       "      <th>ActionGeo_Lat</th>\n",
       "      <th>ActionGeo_Long</th>\n",
       "      <th>ActionGeo_FeatureID</th>\n",
       "      <th>DATEADDED</th>\n",
       "      <th>SOURCEURL</th>\n",
       "    </tr>\n",
       "    <tr>\n",
       "      <th>GlobalEventID</th>\n",
       "      <th></th>\n",
       "      <th></th>\n",
       "      <th></th>\n",
       "      <th></th>\n",
       "      <th></th>\n",
       "      <th></th>\n",
       "      <th></th>\n",
       "      <th></th>\n",
       "      <th></th>\n",
       "      <th></th>\n",
       "      <th></th>\n",
       "      <th></th>\n",
       "      <th></th>\n",
       "      <th></th>\n",
       "      <th></th>\n",
       "      <th></th>\n",
       "      <th></th>\n",
       "      <th></th>\n",
       "      <th></th>\n",
       "      <th></th>\n",
       "      <th></th>\n",
       "    </tr>\n",
       "  </thead>\n",
       "  <tbody>\n",
       "    <tr>\n",
       "      <th>719024869</th>\n",
       "      <td>20170101</td>\n",
       "      <td>201701</td>\n",
       "      <td>2017</td>\n",
       "      <td>2017.0027</td>\n",
       "      <td>AGR</td>\n",
       "      <td>FARMER</td>\n",
       "      <td>NaN</td>\n",
       "      <td>NaN</td>\n",
       "      <td>NaN</td>\n",
       "      <td>NaN</td>\n",
       "      <td>...</td>\n",
       "      <td>2</td>\n",
       "      <td>Minnesota, United States</td>\n",
       "      <td>US</td>\n",
       "      <td>USMN</td>\n",
       "      <td>NaN</td>\n",
       "      <td>45.7326</td>\n",
       "      <td>-93.9196</td>\n",
       "      <td>MN</td>\n",
       "      <td>20180101000000</td>\n",
       "      <td>http://www.kansas.com/news/business/article192...</td>\n",
       "    </tr>\n",
       "    <tr>\n",
       "      <th>719024870</th>\n",
       "      <td>20170101</td>\n",
       "      <td>201701</td>\n",
       "      <td>2017</td>\n",
       "      <td>2017.0027</td>\n",
       "      <td>AGR</td>\n",
       "      <td>FARMER</td>\n",
       "      <td>NaN</td>\n",
       "      <td>NaN</td>\n",
       "      <td>NaN</td>\n",
       "      <td>NaN</td>\n",
       "      <td>...</td>\n",
       "      <td>1</td>\n",
       "      <td>Mexico</td>\n",
       "      <td>MX</td>\n",
       "      <td>MX</td>\n",
       "      <td>NaN</td>\n",
       "      <td>23</td>\n",
       "      <td>-102</td>\n",
       "      <td>MX</td>\n",
       "      <td>20180101000000</td>\n",
       "      <td>http://www.kansas.com/news/business/article192...</td>\n",
       "    </tr>\n",
       "    <tr>\n",
       "      <th>719024871</th>\n",
       "      <td>20170101</td>\n",
       "      <td>201701</td>\n",
       "      <td>2017</td>\n",
       "      <td>2017.0027</td>\n",
       "      <td>AGR</td>\n",
       "      <td>FARMER</td>\n",
       "      <td>NaN</td>\n",
       "      <td>NaN</td>\n",
       "      <td>NaN</td>\n",
       "      <td>NaN</td>\n",
       "      <td>...</td>\n",
       "      <td>1</td>\n",
       "      <td>Mexico</td>\n",
       "      <td>MX</td>\n",
       "      <td>MX</td>\n",
       "      <td>NaN</td>\n",
       "      <td>23</td>\n",
       "      <td>-102</td>\n",
       "      <td>MX</td>\n",
       "      <td>20180101000000</td>\n",
       "      <td>http://www.kansas.com/news/business/article192...</td>\n",
       "    </tr>\n",
       "    <tr>\n",
       "      <th>719024872</th>\n",
       "      <td>20170101</td>\n",
       "      <td>201701</td>\n",
       "      <td>2017</td>\n",
       "      <td>2017.0027</td>\n",
       "      <td>AGR</td>\n",
       "      <td>FARMER</td>\n",
       "      <td>NaN</td>\n",
       "      <td>NaN</td>\n",
       "      <td>NaN</td>\n",
       "      <td>NaN</td>\n",
       "      <td>...</td>\n",
       "      <td>2</td>\n",
       "      <td>Minnesota, United States</td>\n",
       "      <td>US</td>\n",
       "      <td>USMN</td>\n",
       "      <td>NaN</td>\n",
       "      <td>45.7326</td>\n",
       "      <td>-93.9196</td>\n",
       "      <td>MN</td>\n",
       "      <td>20180101000000</td>\n",
       "      <td>http://www.kansas.com/news/business/article192...</td>\n",
       "    </tr>\n",
       "    <tr>\n",
       "      <th>719024873</th>\n",
       "      <td>20170101</td>\n",
       "      <td>201701</td>\n",
       "      <td>2017</td>\n",
       "      <td>2017.0027</td>\n",
       "      <td>AGR</td>\n",
       "      <td>FARMER</td>\n",
       "      <td>NaN</td>\n",
       "      <td>NaN</td>\n",
       "      <td>NaN</td>\n",
       "      <td>NaN</td>\n",
       "      <td>...</td>\n",
       "      <td>1</td>\n",
       "      <td>Mexico</td>\n",
       "      <td>MX</td>\n",
       "      <td>MX</td>\n",
       "      <td>NaN</td>\n",
       "      <td>23</td>\n",
       "      <td>-102</td>\n",
       "      <td>MX</td>\n",
       "      <td>20180101000000</td>\n",
       "      <td>http://www.kansas.com/news/business/article192...</td>\n",
       "    </tr>\n",
       "  </tbody>\n",
       "</table>\n",
       "<p>5 rows × 60 columns</p>\n",
       "</div>"
      ],
      "text/plain": [
       "                    Day MonthYear  Year FractionDate Actor1Code Actor1Name  \\\n",
       "GlobalEventID                                                                \n",
       "719024869      20170101    201701  2017    2017.0027        AGR     FARMER   \n",
       "719024870      20170101    201701  2017    2017.0027        AGR     FARMER   \n",
       "719024871      20170101    201701  2017    2017.0027        AGR     FARMER   \n",
       "719024872      20170101    201701  2017    2017.0027        AGR     FARMER   \n",
       "719024873      20170101    201701  2017    2017.0027        AGR     FARMER   \n",
       "\n",
       "              Actor1CountryCode Actor1KnownGroupCode Actor1EthnicCode  \\\n",
       "GlobalEventID                                                           \n",
       "719024869                   NaN                  NaN              NaN   \n",
       "719024870                   NaN                  NaN              NaN   \n",
       "719024871                   NaN                  NaN              NaN   \n",
       "719024872                   NaN                  NaN              NaN   \n",
       "719024873                   NaN                  NaN              NaN   \n",
       "\n",
       "              Actor1Religion1Code  \\\n",
       "GlobalEventID                       \n",
       "719024869                     NaN   \n",
       "719024870                     NaN   \n",
       "719024871                     NaN   \n",
       "719024872                     NaN   \n",
       "719024873                     NaN   \n",
       "\n",
       "                                     ...                          \\\n",
       "GlobalEventID                        ...                           \n",
       "719024869                            ...                           \n",
       "719024870                            ...                           \n",
       "719024871                            ...                           \n",
       "719024872                            ...                           \n",
       "719024873                            ...                           \n",
       "\n",
       "              ActionGeo_Type        ActionGeo_Fullname ActionGeo_CountryCode  \\\n",
       "GlobalEventID                                                                  \n",
       "719024869                  2  Minnesota, United States                    US   \n",
       "719024870                  1                    Mexico                    MX   \n",
       "719024871                  1                    Mexico                    MX   \n",
       "719024872                  2  Minnesota, United States                    US   \n",
       "719024873                  1                    Mexico                    MX   \n",
       "\n",
       "              ActionGeo_ADM1Code ActionGeo_ADM2Code ActionGeo_Lat  \\\n",
       "GlobalEventID                                                       \n",
       "719024869                   USMN                NaN       45.7326   \n",
       "719024870                     MX                NaN            23   \n",
       "719024871                     MX                NaN            23   \n",
       "719024872                   USMN                NaN       45.7326   \n",
       "719024873                     MX                NaN            23   \n",
       "\n",
       "              ActionGeo_Long ActionGeo_FeatureID       DATEADDED  \\\n",
       "GlobalEventID                                                      \n",
       "719024869           -93.9196                  MN  20180101000000   \n",
       "719024870               -102                  MX  20180101000000   \n",
       "719024871               -102                  MX  20180101000000   \n",
       "719024872           -93.9196                  MN  20180101000000   \n",
       "719024873               -102                  MX  20180101000000   \n",
       "\n",
       "                                                       SOURCEURL  \n",
       "GlobalEventID                                                     \n",
       "719024869      http://www.kansas.com/news/business/article192...  \n",
       "719024870      http://www.kansas.com/news/business/article192...  \n",
       "719024871      http://www.kansas.com/news/business/article192...  \n",
       "719024872      http://www.kansas.com/news/business/article192...  \n",
       "719024873      http://www.kansas.com/news/business/article192...  \n",
       "\n",
       "[5 rows x 60 columns]"
      ]
     },
     "execution_count": 2,
     "metadata": {},
     "output_type": "execute_result"
    }
   ],
   "source": [
    "df.head()"
   ]
  },
  {
   "cell_type": "markdown",
   "metadata": {},
   "source": [
    "Here are the counts of non-null entries in each column."
   ]
  },
  {
   "cell_type": "code",
   "execution_count": 3,
   "metadata": {
    "ExecuteTime": {
     "end_time": "2018-10-03T06:28:21.839331Z",
     "start_time": "2018-10-03T06:28:11.367056Z"
    }
   },
   "outputs": [
    {
     "name": "stdout",
     "output_type": "stream",
     "text": [
      "[########################################] | 100% Completed | 10.4s\n"
     ]
    },
    {
     "data": {
      "text/plain": [
       "Day                      89230\n",
       "MonthYear                89230\n",
       "Year                     89230\n",
       "FractionDate             89230\n",
       "Actor1Code               80452\n",
       "Actor1Name               80456\n",
       "Actor1CountryCode        49348\n",
       "Actor1KnownGroupCode       797\n",
       "Actor1EthnicCode           615\n",
       "Actor1Religion1Code       1643\n",
       "Actor1Religion2Code        361\n",
       "Actor1Type1Code          38616\n",
       "Actor1Type2Code           2335\n",
       "Actor1Type3Code             59\n",
       "Actor2Code               63260\n",
       "Actor2Name               63260\n",
       "Actor2CountryCode        38649\n",
       "Actor2KnownGroupCode       637\n",
       "Actor2EthnicCode           486\n",
       "Actor2Religion1Code       1459\n",
       "Actor2Religion2Code        270\n",
       "Actor2Type1Code          30085\n",
       "Actor2Type2Code           1646\n",
       "Actor2Type3Code             36\n",
       "IsRootEvent              89230\n",
       "EventCode                89230\n",
       "EventBaseCode            89230\n",
       "EventRootCode            89230\n",
       "QuadClass                89230\n",
       "GoldsteinScale           89230\n",
       "NumMentions              89230\n",
       "NumSources               89230\n",
       "NumArticles              89230\n",
       "AvgTone                  89230\n",
       "Actor1Geo_Type           89230\n",
       "Actor1Geo_Fullname       78090\n",
       "Actor1Geo_CountryCode    78111\n",
       "Actor1Geo_ADM1Code       78111\n",
       "Actor1Geo_ADM2Code       50001\n",
       "Actor1Geo_Lat            78088\n",
       "Actor1Geo_Long           78090\n",
       "Actor1Geo_FeatureID      78111\n",
       "Actor2Geo_Type           89230\n",
       "Actor2Geo_Fullname       61502\n",
       "Actor2Geo_CountryCode    61518\n",
       "Actor2Geo_ADM1Code       61518\n",
       "Actor2Geo_ADM2Code       34915\n",
       "Actor2Geo_Lat            61502\n",
       "Actor2Geo_Long           61503\n",
       "Actor2Geo_FeatureID      61518\n",
       "ActionGeo_Type           89230\n",
       "ActionGeo_Fullname       86603\n",
       "ActionGeo_CountryCode    86634\n",
       "ActionGeo_ADM1Code       86634\n",
       "ActionGeo_ADM2Code       48772\n",
       "ActionGeo_Lat            86602\n",
       "ActionGeo_Long           86605\n",
       "ActionGeo_FeatureID      86634\n",
       "DATEADDED                89230\n",
       "SOURCEURL                89230\n",
       "dtype: int64"
      ]
     },
     "execution_count": 3,
     "metadata": {},
     "output_type": "execute_result"
    }
   ],
   "source": [
    "df.count().compute()"
   ]
  },
  {
   "cell_type": "markdown",
   "metadata": {},
   "source": [
    "# Training on Large Datasets"
   ]
  },
  {
   "cell_type": "markdown",
   "metadata": {},
   "source": [
    "As an example, let us try to predict the tone (`AvgTone`) of news coverage of an event based on the actors."
   ]
  },
  {
   "cell_type": "markdown",
   "metadata": {},
   "source": [
    "For this demo ML task, we are interested in predicting the tone of an event's coverage (`AvgTone`) based on  Actor 1 (`Actor1Name`) and Actor 2 (`Actor2Name`).\n",
    "\n",
    "Here is the frequency count of the values of `Actor1Name`."
   ]
  },
  {
   "cell_type": "code",
   "execution_count": 4,
   "metadata": {
    "ExecuteTime": {
     "end_time": "2018-10-03T06:28:32.590183Z",
     "start_time": "2018-10-03T06:28:21.842809Z"
    }
   },
   "outputs": [
    {
     "name": "stdout",
     "output_type": "stream",
     "text": [
      "[########################################] | 100% Completed | 10.7s\n"
     ]
    },
    {
     "data": {
      "text/plain": [
       "UNITED STATES               8217\n",
       "POLICE                      2300\n",
       "PAKISTAN                    1851\n",
       "PRESIDENT                   1789\n",
       "IRAN                        1372\n",
       "GOVERNMENT                  1348\n",
       "ISRAEL                      1286\n",
       "UNITED KINGDOM              1279\n",
       "NIGERIA                     1189\n",
       "AUSTRALIA                    885\n",
       "CHINA                        863\n",
       "RUSSIA                       728\n",
       "SCHOOL                       644\n",
       "HOSPITAL                     600\n",
       "CANADA                       583\n",
       "COMPANY                      578\n",
       "MEDIA                        544\n",
       "AUTHORITIES                  524\n",
       "BUSINESS                     496\n",
       "IRANIAN                      485\n",
       "THE US                       470\n",
       "PHILIPPINE                   461\n",
       "AFGHANISTAN                  444\n",
       "STUDENT                      441\n",
       "WASHINGTON                   436\n",
       "COMMUNITY                    426\n",
       "AFRICA                       416\n",
       "DEPUTY                       400\n",
       "AMERICAN                     387\n",
       "ISRAELI                      374\n",
       "                            ... \n",
       "MNCS                           1\n",
       "GENERAL MILLS                  1\n",
       "CASEWORKER                     1\n",
       "GENERAL ELECTRIC               1\n",
       "SENATE DELEGATION              1\n",
       "SEMARANG                       1\n",
       "MOLSON COORS                   1\n",
       "CATHOLIC RELIEF SERVICES       1\n",
       "CATHOLIC SAINT                 1\n",
       "CATO INSTITUTE                 1\n",
       "SECRETARY OF DEFENSE           1\n",
       "GDANSK                         1\n",
       "SCOTT GOTTLIEB                 1\n",
       "MONGER                         1\n",
       "MOSLEM                         1\n",
       "CENTURYLINK INC                1\n",
       "SAVINGS AND LOAN               1\n",
       "SAVANNAKHET                    1\n",
       "MORANG                         1\n",
       "GAMBIAN                        1\n",
       "SARDIS                         1\n",
       "SARAWAK                        1\n",
       "SAO PAULO                      1\n",
       "SANTO DOMINGO                  1\n",
       "GALILEE                        1\n",
       "GALAPAGOS ISLANDS              1\n",
       "CHARLES MURRAY                 1\n",
       "GALAN                          1\n",
       "SANGO                          1\n",
       "KAMLA PERSAD BISSESSAR         1\n",
       "Name: Actor1Name, Length: 2451, dtype: int64"
      ]
     },
     "execution_count": 4,
     "metadata": {},
     "output_type": "execute_result"
    }
   ],
   "source": [
    "df['Actor1Name'].value_counts().compute()"
   ]
  },
  {
   "cell_type": "markdown",
   "metadata": {},
   "source": [
    "This is the one for `Actor2Name`."
   ]
  },
  {
   "cell_type": "code",
   "execution_count": 5,
   "metadata": {
    "ExecuteTime": {
     "end_time": "2018-10-03T06:28:43.636834Z",
     "start_time": "2018-10-03T06:28:32.594662Z"
    }
   },
   "outputs": [
    {
     "name": "stdout",
     "output_type": "stream",
     "text": [
      "[########################################] | 100% Completed | 11.0s\n"
     ]
    },
    {
     "data": {
      "text/plain": [
       "UNITED STATES                  6032\n",
       "PAKISTAN                       1799\n",
       "POLICE                         1289\n",
       "GOVERNMENT                     1205\n",
       "ISRAEL                         1182\n",
       "IRAN                           1104\n",
       "PRESIDENT                      1086\n",
       "UNITED KINGDOM                  998\n",
       "NIGERIA                         851\n",
       "CHINA                           722\n",
       "AUSTRALIA                       700\n",
       "RUSSIA                          635\n",
       "HOSPITAL                        599\n",
       "SCHOOL                          578\n",
       "AFGHANISTAN                     458\n",
       "BUSINESS                        427\n",
       "IRANIAN                         418\n",
       "MEDIA                           418\n",
       "THE US                          400\n",
       "COMMUNITY                       399\n",
       "CANADA                          391\n",
       "NORTH KOREA                     357\n",
       "COMPANY                         351\n",
       "STUDENT                         349\n",
       "AFRICA                          347\n",
       "PALESTINIAN                     332\n",
       "AMERICAN                        317\n",
       "AUTHORITIES                     312\n",
       "DEPUTY                          311\n",
       "GERMANY                         305\n",
       "                               ... \n",
       "RIGHT WING COALITION              1\n",
       "CHARLES TAYLOR                    1\n",
       "RIGA                              1\n",
       "REYKJAVIK                         1\n",
       "CARETAKER GOVERNMENT              1\n",
       "REUVEN RIVLIN                     1\n",
       "RESISTANCE MOVEMENT               1\n",
       "LONE STAR STATE                   1\n",
       "CARNIVAL CORPORATION              1\n",
       "CARRIE LAM CHENG YUET NGOR        1\n",
       "REPUBLIC OF CROATIA               1\n",
       "LUANDA                            1\n",
       "LUDHIANA                          1\n",
       "LULA DA SILVA                     1\n",
       "LYON                              1\n",
       "FORTIS                            1\n",
       "RECONSTRUCTIONIST JUDAISM         1\n",
       "CENTER FOR HUMAN RIGHTS           1\n",
       "REBEL SOURCE                      1\n",
       "RASHTRIYA SWAYAMSEVAK SANGH       1\n",
       "CENTRAL JAVA                      1\n",
       "RASHT                             1\n",
       "CEYLON                            1\n",
       "MAITHRIPALA SIRISENA              1\n",
       "MAKKAH                            1\n",
       "MALAYS                            1\n",
       "FIREBUG                           1\n",
       "CHANDPUR                          1\n",
       "CHARLES MURRAY                    1\n",
       "LEE HSIEN LOONG                   1\n",
       "Name: Actor2Name, Length: 2222, dtype: int64"
      ]
     },
     "execution_count": 5,
     "metadata": {},
     "output_type": "execute_result"
    }
   ],
   "source": [
    "df['Actor2Name'].value_counts().compute()"
   ]
  },
  {
   "cell_type": "markdown",
   "metadata": {},
   "source": [
    "Here are some basic statistics of the tones."
   ]
  },
  {
   "cell_type": "code",
   "execution_count": null,
   "metadata": {
    "ExecuteTime": {
     "end_time": "2018-10-03T06:28:55.563210Z",
     "start_time": "2018-10-03T06:28:43.641061Z"
    }
   },
   "outputs": [],
   "source": [
    "df['AvgTone'].astype('float').describe().compute()"
   ]
  },
  {
   "cell_type": "markdown",
   "metadata": {},
   "source": [
    "`Actor1Name` and `Actor2Name` are both categorical variables so we one-hot encode them then we use linear regression for prediction. We only consider 1% of the events on that date. Note the use of `Categorizer` which collects all unique values from all partitions. Without it, `DummyEncoder` will only see values in each partition which will be a problem if a particular value is not in all partitions."
   ]
  },
  {
   "cell_type": "code",
   "execution_count": 7,
   "metadata": {
    "ExecuteTime": {
     "end_time": "2018-10-03T06:40:54.829947Z",
     "start_time": "2018-10-03T06:28:55.567072Z"
    },
    "scrolled": false
   },
   "outputs": [
    {
     "name": "stdout",
     "output_type": "stream",
     "text": [
      "[########################################] | 100% Completed | 10.0s\n",
      "[########################################] | 100% Completed |  0.2s\n",
      "[########################################] | 100% Completed |  0.6s\n",
      "[########################################] | 100% Completed |  2.5s\n",
      "[########################################] | 100% Completed |  0.6s\n",
      "[####                                    ] | 11% Completed |  0.1s"
     ]
    },
    {
     "name": "stderr",
     "output_type": "stream",
     "text": [
      "/opt/conda/lib/python3.6/site-packages/numpy/core/fromnumeric.py:83: RuntimeWarning: invalid value encountered in reduce\n",
      "  return ufunc.reduce(obj, axis, dtype, out, **passkwargs)\n"
     ]
    },
    {
     "name": "stdout",
     "output_type": "stream",
     "text": [
      "[########################################] | 100% Completed |  7.4s\n",
      "[########################################] | 100% Completed |  8.1s\n",
      "[########################################] | 100% Completed |  7.3s\n",
      "[########################################] | 100% Completed |  7.6s\n",
      "[########################################] | 100% Completed |  7.0s\n",
      "[########################################] | 100% Completed |  7.0s\n",
      "[########################################] | 100% Completed |  7.3s\n",
      "[########################################] | 100% Completed |  7.9s\n",
      "[########################################] | 100% Completed |  7.4s\n",
      "[########################################] | 100% Completed |  7.7s\n",
      "[########################################] | 100% Completed |  7.3s\n",
      "[########################################] | 100% Completed |  7.2s\n",
      "[########################################] | 100% Completed |  7.4s\n",
      "[########################################] | 100% Completed |  7.0s\n",
      "[########################################] | 100% Completed |  6.9s\n",
      "[########################################] | 100% Completed |  7.2s\n",
      "[########################################] | 100% Completed |  6.5s\n",
      "[########################################] | 100% Completed |  7.5s\n",
      "[########################################] | 100% Completed |  7.3s\n",
      "[########################################] | 100% Completed |  7.1s\n",
      "[########################################] | 100% Completed |  7.0s\n",
      "[########################################] | 100% Completed |  6.9s\n",
      "[########################################] | 100% Completed |  7.0s\n",
      "[########################################] | 100% Completed |  7.1s\n",
      "[########################################] | 100% Completed |  7.3s\n",
      "[########################################] | 100% Completed |  6.9s\n",
      "[########################################] | 100% Completed |  7.5s\n",
      "[########################################] | 100% Completed |  6.5s\n",
      "[########################################] | 100% Completed |  6.9s\n",
      "[########################################] | 100% Completed |  6.8s\n",
      "[########################################] | 100% Completed |  6.5s\n",
      "[########################################] | 100% Completed |  6.8s\n",
      "[########################################] | 100% Completed |  7.1s\n",
      "[########################################] | 100% Completed |  7.2s\n",
      "[########################################] | 100% Completed |  7.1s\n",
      "[########################################] | 100% Completed |  7.5s\n",
      "[########################################] | 100% Completed |  6.3s\n",
      "[########################################] | 100% Completed |  6.8s\n",
      "[########################################] | 100% Completed |  7.2s\n",
      "[########################################] | 100% Completed |  6.5s\n",
      "[########################################] | 100% Completed |  6.8s\n",
      "[########################################] | 100% Completed |  6.6s\n",
      "[########################################] | 100% Completed |  6.7s\n",
      "[########################################] | 100% Completed |  6.2s\n",
      "[########################################] | 100% Completed |  6.8s\n",
      "[########################################] | 100% Completed |  6.9s\n",
      "[########################################] | 100% Completed |  6.8s\n",
      "[########################################] | 100% Completed |  6.4s\n",
      "[########################################] | 100% Completed |  6.8s\n",
      "[########################################] | 100% Completed |  6.6s\n",
      "[########################################] | 100% Completed |  6.4s\n",
      "[########################################] | 100% Completed |  6.8s\n",
      "[########################################] | 100% Completed |  6.9s\n",
      "[########################################] | 100% Completed |  6.6s\n",
      "[########################################] | 100% Completed |  7.0s\n",
      "[########################################] | 100% Completed |  7.0s\n",
      "[########################################] | 100% Completed |  6.3s\n",
      "[########################################] | 100% Completed |  6.7s\n",
      "[########################################] | 100% Completed |  7.2s\n",
      "[########################################] | 100% Completed |  6.4s\n",
      "[########################################] | 100% Completed |  6.3s\n",
      "[########################################] | 100% Completed |  6.5s\n",
      "[########################################] | 100% Completed |  7.2s\n",
      "[########################################] | 100% Completed |  6.4s\n",
      "[########################################] | 100% Completed |  6.9s\n",
      "[########################################] | 100% Completed |  6.6s\n",
      "[########################################] | 100% Completed |  6.7s\n",
      "[########################################] | 100% Completed |  6.9s\n",
      "[########################################] | 100% Completed |  6.2s\n",
      "[########################################] | 100% Completed |  6.7s\n",
      "[########################################] | 100% Completed |  6.6s\n",
      "[########################################] | 100% Completed |  6.8s\n",
      "[########################################] | 100% Completed |  6.6s\n",
      "[########################################] | 100% Completed |  6.8s\n",
      "[########################################] | 100% Completed |  6.8s\n",
      "[########################################] | 100% Completed |  6.9s\n",
      "[########################################] | 100% Completed |  6.7s\n",
      "[########################################] | 100% Completed |  6.7s\n",
      "[########################################] | 100% Completed |  6.7s\n",
      "[########################################] | 100% Completed |  7.0s\n",
      "[########################################] | 100% Completed |  6.7s\n",
      "[########################################] | 100% Completed |  7.3s\n",
      "[########################################] | 100% Completed |  6.5s\n",
      "[########################################] | 100% Completed |  6.6s\n",
      "[########################################] | 100% Completed |  6.5s\n",
      "[########################################] | 100% Completed |  6.7s\n",
      "[########################################] | 100% Completed |  6.6s\n",
      "[########################################] | 100% Completed |  6.6s\n",
      "[########################################] | 100% Completed |  6.3s\n",
      "[########################################] | 100% Completed |  7.0s\n",
      "[########################################] | 100% Completed |  7.4s\n",
      "[########################################] | 100% Completed |  7.2s\n",
      "[########################################] | 100% Completed |  6.5s\n",
      "[########################################] | 100% Completed |  6.8s\n",
      "[########################################] | 100% Completed |  6.5s\n",
      "[########################################] | 100% Completed |  5.9s\n",
      "[########################################] | 100% Completed |  6.6s\n",
      "[########################################] | 100% Completed |  6.6s\n",
      "[########################################] | 100% Completed |  6.6s\n",
      "[########################################] | 100% Completed |  6.4s\n"
     ]
    },
    {
     "data": {
      "text/plain": [
       "LinearRegression(C=1.0, class_weight=None, dual=False, fit_intercept=True,\n",
       "         intercept_scaling=1.0, max_iter=100, multiclass='ovr', n_jobs=1,\n",
       "         penalty='l2', random_state=None, solver='admm',\n",
       "         solver_kwargs=None, tol=0.0001, verbose=0, warm_start=False)"
      ]
     },
     "execution_count": 7,
     "metadata": {},
     "output_type": "execute_result"
    }
   ],
   "source": [
    "from dask_ml.linear_model import LinearRegression\n",
    "from dask_ml.preprocessing import Categorizer, DummyEncoder\n",
    "from sklearn.pipeline import make_pipeline\n",
    "\n",
    "\n",
    "df_sampled = df.sample(frac=0.01).persist()\n",
    "X = df_sampled[['Actor1Name', 'Actor2Name']]\n",
    "y = df_sampled['AvgTone'].astype(float).persist()\n",
    "\n",
    "pipe = make_pipeline(\n",
    "   Categorizer(), # For unique values\n",
    "   DummyEncoder()\n",
    ")\n",
    "X_dummies = pipe.fit_transform(X).persist()\n",
    "\n",
    "lr = LinearRegression()\n",
    "lr.fit(X_dummies.values, y.values)"
   ]
  },
  {
   "cell_type": "markdown",
   "metadata": {},
   "source": [
    "Let's look at the predicted tones when the actors are `PHILIPPINES` and `CHINA`."
   ]
  },
  {
   "cell_type": "code",
   "execution_count": 8,
   "metadata": {
    "ExecuteTime": {
     "end_time": "2018-10-03T06:40:55.041727Z",
     "start_time": "2018-10-03T06:40:54.834242Z"
    }
   },
   "outputs": [
    {
     "data": {
      "text/plain": [
       "array([4.78576389])"
      ]
     },
     "execution_count": 8,
     "metadata": {},
     "output_type": "execute_result"
    }
   ],
   "source": [
    "lr.predict(pipe.transform(pd.DataFrame(\n",
    "    {'Actor1Name': ['PHILIPPINES'], 'Actor2Name': ['CHINA']})).values)"
   ]
  },
  {
   "cell_type": "code",
   "execution_count": 9,
   "metadata": {
    "ExecuteTime": {
     "end_time": "2018-10-03T06:40:55.063511Z",
     "start_time": "2018-10-03T06:40:55.044467Z"
    }
   },
   "outputs": [
    {
     "data": {
      "text/plain": [
       "array([13.18247462])"
      ]
     },
     "execution_count": 9,
     "metadata": {},
     "output_type": "execute_result"
    }
   ],
   "source": [
    "lr.predict(pipe.transform(pd.DataFrame(\n",
    "    {'Actor1Name': ['CHINA'], 'Actor2Name': ['PHILIPPINES']})).values)"
   ]
  },
  {
   "cell_type": "markdown",
   "metadata": {},
   "source": [
    "The (in-sample) $R^2$ value is below."
   ]
  },
  {
   "cell_type": "code",
   "execution_count": 10,
   "metadata": {
    "ExecuteTime": {
     "end_time": "2018-10-03T06:40:55.792849Z",
     "start_time": "2018-10-03T06:40:55.066224Z"
    }
   },
   "outputs": [
    {
     "name": "stdout",
     "output_type": "stream",
     "text": [
      "[######                                  ] | 17% Completed |  0.1s"
     ]
    },
    {
     "name": "stderr",
     "output_type": "stream",
     "text": [
      "/opt/conda/lib/python3.6/site-packages/numpy/core/fromnumeric.py:83: RuntimeWarning: invalid value encountered in reduce\n",
      "  return ufunc.reduce(obj, axis, dtype, out, **passkwargs)\n"
     ]
    },
    {
     "name": "stdout",
     "output_type": "stream",
     "text": [
      "[########################################] | 100% Completed |  0.5s\n"
     ]
    },
    {
     "data": {
      "text/plain": [
       "5.310304534610837"
      ]
     },
     "execution_count": 10,
     "metadata": {},
     "output_type": "execute_result"
    }
   ],
   "source": [
    "lr.score(X_dummies.values, y.values).compute()"
   ]
  },
  {
   "cell_type": "markdown",
   "metadata": {},
   "source": [
    "Let's try clustering them into 5 clusters based on the action location."
   ]
  },
  {
   "cell_type": "code",
   "execution_count": 11,
   "metadata": {
    "ExecuteTime": {
     "end_time": "2018-10-03T06:41:24.773192Z",
     "start_time": "2018-10-03T06:40:55.796046Z"
    },
    "scrolled": false
   },
   "outputs": [
    {
     "name": "stdout",
     "output_type": "stream",
     "text": [
      "[########################################] | 100% Completed |  0.7s\n",
      "[########################################] | 100% Completed |  0.6s\n",
      "[########################################] | 100% Completed |  0.5s\n",
      "[########################################] | 100% Completed |  0.1s\n",
      "[########################################] | 100% Completed |  0.3s\n",
      "[########################################] | 100% Completed |  1.1s\n",
      "[########################################] | 100% Completed |  0.1s\n",
      "[########################################] | 100% Completed |  1.0s\n",
      "[########################################] | 100% Completed |  0.1s\n",
      "[########################################] | 100% Completed |  0.8s\n",
      "[########################################] | 100% Completed |  0.1s\n",
      "[########################################] | 100% Completed |  0.9s\n",
      "[########################################] | 100% Completed |  0.1s\n",
      "[########################################] | 100% Completed |  0.9s\n",
      "[########################################] | 100% Completed |  0.1s\n",
      "[########################################] | 100% Completed |  0.8s\n",
      "[########################################] | 100% Completed |  0.1s\n",
      "[########################################] | 100% Completed |  1.1s\n",
      "[########################################] | 100% Completed |  0.1s\n",
      "[########################################] | 100% Completed |  0.9s\n",
      "[########################################] | 100% Completed |  0.1s\n",
      "[########################################] | 100% Completed |  0.9s\n",
      "[########################################] | 100% Completed |  0.1s\n",
      "[########################################] | 100% Completed |  0.9s\n",
      "[########################################] | 100% Completed |  0.1s\n",
      "[########################################] | 100% Completed |  0.9s\n",
      "[########################################] | 100% Completed |  0.1s\n",
      "[########################################] | 100% Completed |  0.9s\n",
      "[########################################] | 100% Completed |  0.1s\n",
      "[########################################] | 100% Completed |  0.8s\n",
      "[########################################] | 100% Completed |  0.1s\n",
      "[########################################] | 100% Completed |  0.8s\n",
      "[########################################] | 100% Completed |  0.1s\n",
      "[########################################] | 100% Completed |  0.9s\n",
      "[########################################] | 100% Completed |  0.1s\n",
      "[########################################] | 100% Completed |  0.9s\n",
      "[########################################] | 100% Completed |  0.1s\n",
      "[########################################] | 100% Completed |  0.1s\n",
      "[########################################] | 100% Completed |  1.0s\n",
      "[########################################] | 100% Completed |  0.6s\n",
      "[########################################] | 100% Completed |  0.7s\n",
      "[########################################] | 100% Completed |  0.6s\n",
      "[########################################] | 100% Completed |  0.6s\n",
      "[########################################] | 100% Completed |  0.6s\n",
      "[########################################] | 100% Completed |  0.6s\n",
      "[########################################] | 100% Completed |  0.6s\n",
      "[########################################] | 100% Completed |  0.6s\n",
      "[########################################] | 100% Completed |  0.3s\n",
      "[########################################] | 100% Completed |  0.5s\n",
      "[########################################] | 100% Completed |  0.3s\n"
     ]
    }
   ],
   "source": [
    "import numpy as np\n",
    "from dask_ml.cluster import KMeans\n",
    "\n",
    "X_clust = (df_sampled[['ActionGeo_Long', 'ActionGeo_Lat']]\n",
    "               .astype(float)\n",
    "               .dropna()\n",
    "               .to_dask_array(lengths=True).persist())\n",
    "\n",
    "kmeans = KMeans(5)\n",
    "kmeans.fit(X_clust)\n",
    "y_pred = kmeans.predict(X_clust).persist()"
   ]
  },
  {
   "cell_type": "markdown",
   "metadata": {},
   "source": [
    "We plot the coordinates below."
   ]
  },
  {
   "cell_type": "code",
   "execution_count": 12,
   "metadata": {
    "ExecuteTime": {
     "end_time": "2018-10-03T06:41:26.872531Z",
     "start_time": "2018-10-03T06:41:24.776595Z"
    },
    "scrolled": false
   },
   "outputs": [
    {
     "name": "stdout",
     "output_type": "stream",
     "text": [
      "[########################################] | 100% Completed |  0.1s\n",
      "[########################################] | 100% Completed |  0.1s\n",
      "[########################################] | 100% Completed |  0.1s\n"
     ]
    },
    {
     "data": {
      "text/plain": [
       "<matplotlib.collections.PathCollection at 0x7f6d7336fe48>"
      ]
     },
     "execution_count": 12,
     "metadata": {},
     "output_type": "execute_result"
    },
    {
     "data": {
      "image/png": "[encoded data removed]",
      "text/plain": [
       "<Figure size 432x288 with 1 Axes>"
      ]
     },
     "metadata": {
      "needs_background": "light"
     },
     "output_type": "display_data"
    }
   ],
   "source": [
    "import matplotlib.pyplot as plt\n",
    "%matplotlib inline\n",
    "plt.scatter(X_clust[:,0].compute(), X_clust[:,1].compute(), c=y_pred)"
   ]
  },
  {
   "cell_type": "markdown",
   "metadata": {},
   "source": [
    "# Incremental Learning"
   ]
  },
  {
   "cell_type": "markdown",
   "metadata": {},
   "source": [
    "Many scikit-learn estimators implement a `partial_fit` method which allows incremental learning in batches. This means that instead of passing all of the training data, which is potentially large, to the `fit` method, the training data can be passed by batch. Thus, only a part of the training data is needed to be loaded on memory while the rest can remain on disk until they are needed.\n",
    "\n",
    "One of the estimators that has `partial_fit` is SGDClassifier which can be used for SVM and logistic regression. Dask supports scikit-learn incremental learners by handling data management, moving and passing batches of Dask arrays and dataframes as necessary.\n",
    "\n",
    "As an example, we convert the previous problem to a classification problem wherein we try to predict whether the tone is positive, neutral or negative based on the actors.\n",
    "\n",
    "According to the documentation, tones vary from -100 to +100 and common values range between -10 and 10. We set positive tones as those with values greater than 10 and negative if less than -10."
   ]
  },
  {
   "cell_type": "code",
   "execution_count": 13,
   "metadata": {
    "ExecuteTime": {
     "end_time": "2018-10-03T06:41:27.096264Z",
     "start_time": "2018-10-03T06:41:26.874631Z"
    }
   },
   "outputs": [
    {
     "name": "stdout",
     "output_type": "stream",
     "text": [
      "[########################################] | 100% Completed |  0.2s\n"
     ]
    }
   ],
   "source": [
    "def tone_type(tone):\n",
    "    if tone > 10:\n",
    "        return 1\n",
    "    elif tone < -10:\n",
    "        return -1\n",
    "    else:\n",
    "        return 0\n",
    "    \n",
    "y_tone = y.map(tone_type).persist()"
   ]
  },
  {
   "cell_type": "code",
   "execution_count": 14,
   "metadata": {
    "ExecuteTime": {
     "end_time": "2018-10-03T06:41:28.343049Z",
     "start_time": "2018-10-03T06:41:27.099536Z"
    }
   },
   "outputs": [
    {
     "name": "stdout",
     "output_type": "stream",
     "text": [
      "[########################################] | 100% Completed |  0.3s\n",
      "[########################################] | 100% Completed |  0.5s\n",
      "[########################################] | 100% Completed |  0.3s\n"
     ]
    }
   ],
   "source": [
    "df['positive'] = (y > 10).astype(int).persist()\n",
    "df['neutral'] = ((y >= -10) & (y <= 10)).astype(int).persist()\n",
    "df['negative'] = (y < -10).astype(int).persist()"
   ]
  },
  {
   "cell_type": "code",
   "execution_count": 15,
   "metadata": {
    "ExecuteTime": {
     "end_time": "2018-10-03T06:41:41.231758Z",
     "start_time": "2018-10-03T06:41:28.346280Z"
    }
   },
   "outputs": [
    {
     "name": "stdout",
     "output_type": "stream",
     "text": [
      "[########################################] | 100% Completed | 12.8s\n"
     ]
    },
    {
     "data": {
      "text/plain": [
       "count    893.000000\n",
       "mean       0.003359\n",
       "std        0.057896\n",
       "min        0.000000\n",
       "25%        0.000000\n",
       "50%        0.000000\n",
       "75%        0.000000\n",
       "max        1.000000\n",
       "dtype: float64"
      ]
     },
     "execution_count": 15,
     "metadata": {},
     "output_type": "execute_result"
    }
   ],
   "source": [
    "df['positive'].describe().compute()"
   ]
  },
  {
   "cell_type": "code",
   "execution_count": 16,
   "metadata": {
    "ExecuteTime": {
     "end_time": "2018-10-03T06:41:54.293233Z",
     "start_time": "2018-10-03T06:41:41.235623Z"
    }
   },
   "outputs": [
    {
     "name": "stdout",
     "output_type": "stream",
     "text": [
      "[########################################] | 100% Completed | 12.9s\n"
     ]
    },
    {
     "data": {
      "text/plain": [
       "count    893.000000\n",
       "mean       0.950728\n",
       "std        0.216557\n",
       "min        0.000000\n",
       "25%        1.000000\n",
       "50%        1.000000\n",
       "75%        1.000000\n",
       "max        1.000000\n",
       "dtype: float64"
      ]
     },
     "execution_count": 16,
     "metadata": {},
     "output_type": "execute_result"
    }
   ],
   "source": [
    "df['neutral'].describe().compute()"
   ]
  },
  {
   "cell_type": "code",
   "execution_count": 17,
   "metadata": {
    "ExecuteTime": {
     "end_time": "2018-10-03T06:42:07.262023Z",
     "start_time": "2018-10-03T06:41:54.296970Z"
    }
   },
   "outputs": [
    {
     "name": "stdout",
     "output_type": "stream",
     "text": [
      "[########################################] | 100% Completed | 12.9s\n"
     ]
    },
    {
     "data": {
      "text/plain": [
       "count    893.000000\n",
       "mean       0.045913\n",
       "std        0.209413\n",
       "min        0.000000\n",
       "25%        0.000000\n",
       "50%        0.000000\n",
       "75%        0.000000\n",
       "max        1.000000\n",
       "dtype: float64"
      ]
     },
     "execution_count": 17,
     "metadata": {},
     "output_type": "execute_result"
    }
   ],
   "source": [
    "df['negative'].describe().compute()"
   ]
  },
  {
   "cell_type": "markdown",
   "metadata": {},
   "source": [
    "We use linear SVM as our classification model."
   ]
  },
  {
   "cell_type": "code",
   "execution_count": 18,
   "metadata": {
    "ExecuteTime": {
     "end_time": "2018-10-03T06:42:09.478337Z",
     "start_time": "2018-10-03T06:42:07.266415Z"
    }
   },
   "outputs": [
    {
     "name": "stdout",
     "output_type": "stream",
     "text": [
      "[########################################] | 100% Completed |  0.1s\n",
      "[########################################] | 100% Completed |  0.1s\n",
      "[########################################] | 100% Completed |  0.2s\n",
      "[########################################] | 100% Completed |  1.1s\n"
     ]
    },
    {
     "data": {
      "text/plain": [
       "Incremental(estimator=SGDClassifier(alpha=0.0001, average=False, class_weight=None,\n",
       "       early_stopping=False, epsilon=0.1, eta0=0.0, fit_intercept=True,\n",
       "       l1_ratio=0.15, learning_rate='optimal', loss='hinge', max_iter=None,\n",
       "       n_iter=None, n_iter_no_change=5, n_jobs=None, penalty='l2',\n",
       "       power_t=0.5, random_state=None, shuffle=True, tol=None,\n",
       "       validation_fraction=0.1, verbose=0, warm_start=False),\n",
       "      random_state=None, scoring='accuracy', shuffle_blocks=True)"
      ]
     },
     "execution_count": 18,
     "metadata": {},
     "output_type": "execute_result"
    }
   ],
   "source": [
    "from dask_ml.model_selection import train_test_split\n",
    "from sklearn.linear_model import SGDClassifier\n",
    "from dask_ml.wrappers import Incremental\n",
    "\n",
    "X_train, X_test, y_train, y_test = train_test_split(\n",
    "    X_dummies.to_dask_array(True),\n",
    "    y_tone.to_dask_array(True))\n",
    "\n",
    "# `partial_fit` classifiers require classes\n",
    "classes = y_tone.unique().compute()\n",
    "\n",
    "sgd = SGDClassifier()\n",
    "inc = Incremental(sgd, scoring='accuracy')\n",
    "inc.fit(X_train, y_train, classes=classes)"
   ]
  },
  {
   "cell_type": "code",
   "execution_count": 19,
   "metadata": {
    "ExecuteTime": {
     "end_time": "2018-10-03T06:42:10.396443Z",
     "start_time": "2018-10-03T06:42:09.482052Z"
    }
   },
   "outputs": [
    {
     "name": "stdout",
     "output_type": "stream",
     "text": [
      "[########################################] | 100% Completed |  0.8s\n"
     ]
    },
    {
     "data": {
      "text/plain": [
       "0.9583333333333334"
      ]
     },
     "execution_count": 19,
     "metadata": {},
     "output_type": "execute_result"
    }
   ],
   "source": [
    "inc.score(X_test, y_test)"
   ]
  },
  {
   "cell_type": "markdown",
   "metadata": {},
   "source": [
    "## Integration with `joblib`"
   ]
  },
  {
   "cell_type": "markdown",
   "metadata": {},
   "source": [
    "Scikit-learn uses `joblib` to parallelize some of its classes. To make it work with dask, specify the parallel backend."
   ]
  },
  {
   "cell_type": "code",
   "execution_count": 20,
   "metadata": {
    "ExecuteTime": {
     "end_time": "2018-10-03T06:43:03.369997Z",
     "start_time": "2018-10-03T06:42:10.399964Z"
    }
   },
   "outputs": [],
   "source": [
    "from dask.distributed import Client\n",
    "from sklearn.externals.joblib import parallel_backend\n",
    "from sklearn.ensemble import RandomForestClassifier\n",
    "\n",
    "client = Client()\n",
    "\n",
    "rf = RandomForestClassifier()\n",
    "with parallel_backend('dask'):\n",
    "    rf.fit(X_train, y_train)"
   ]
  },
  {
   "cell_type": "code",
   "execution_count": 21,
   "metadata": {
    "ExecuteTime": {
     "end_time": "2018-10-03T06:43:12.481812Z",
     "start_time": "2018-10-03T06:43:03.378420Z"
    }
   },
   "outputs": [
    {
     "data": {
      "text/plain": [
       "0.9375"
      ]
     },
     "execution_count": 21,
     "metadata": {},
     "output_type": "execute_result"
    }
   ],
   "source": [
    "rf.score(X_test, y_test)"
   ]
  },
  {
   "cell_type": "code",
   "execution_count": 22,
   "metadata": {
    "ExecuteTime": {
     "end_time": "2018-10-03T07:40:33.273340Z",
     "start_time": "2018-10-03T07:40:31.408248Z"
    }
   },
   "outputs": [],
   "source": [
    "# Redo \n",
    "from dask.distributed import Client\n",
    "from sklearn.externals.joblib import parallel_backend\n",
    "from sklearn.ensemble import RandomForestClassifier\n",
    "\n",
    "client = Client('192.168.212.2:31416')\n",
    "\n",
    "rf = RandomForestClassifier()\n",
    "with parallel_backend('dask'):\n",
    "    rf.fit(X_train, y_train)"
   ]
  },
  {
   "cell_type": "code",
   "execution_count": null,
   "metadata": {},
   "outputs": [],
   "source": []
  }
 ],
 "metadata": {
  "kernelspec": {
   "display_name": "Python 3",
   "language": "python",
   "name": "python3"
  },
  "language_info": {
   "codemirror_mode": {
    "name": "ipython",
    "version": 3
   },
   "file_extension": ".py",
   "mimetype": "text/x-python",
   "name": "python",
   "nbconvert_exporter": "python",
   "pygments_lexer": "ipython3",
   "version": "3.7.2"
  },
  "latex_envs": {
   "LaTeX_envs_menu_present": true,
   "autoclose": false,
   "autocomplete": true,
   "bibliofile": "biblio.bib",
   "cite_by": "apalike",
   "current_citInitial": 1,
   "eqLabelWithNumbers": true,
   "eqNumInitial": 1,
   "hotkeys": {
    "equation": "Ctrl-E",
    "itemize": "Ctrl-I"
   },
   "labels_anchors": false,
   "latex_user_defs": false,
   "report_style_numbering": false,
   "user_envs_cfg": false
  },
  "nbpresent": {
   "slides": {
    "02de6566-8082-40e9-bafa-b450c01b3828": {
     "id": "02de6566-8082-40e9-bafa-b450c01b3828",
     "prev": "3aad0de1-3309-42ee-9d16-b72bfe66e674",
     "regions": {
      "1efc840a-230c-40ed-8fa6-f09db93c8f02": {
       "attrs": {
        "height": 0.8,
        "width": 0.8,
        "x": 0.1,
        "y": 0.1
       },
       "content": {
        "cell": "8ac63190-2ac8-4219-935e-e0230ae2ddf4",
        "part": "whole"
       },
       "id": "1efc840a-230c-40ed-8fa6-f09db93c8f02"
      }
     }
    },
    "076e88cf-193e-4b25-9816-c43b5adcd91b": {
     "id": "076e88cf-193e-4b25-9816-c43b5adcd91b",
     "prev": "c507e317-9f60-43c2-8844-81bc64f6ce36",
     "regions": {
      "37ece99d-cace-4cca-ab34-e45546884fad": {
       "attrs": {
        "height": 0.8,
        "width": 0.8,
        "x": 0.1,
        "y": 0.1
       },
       "content": {
        "cell": "e6ed5ba2-76a1-43e4-9573-ba539c42c609",
        "part": "whole"
       },
       "id": "37ece99d-cace-4cca-ab34-e45546884fad"
      }
     }
    },
    "0a44ef63-18ba-4327-a454-a62c46a86058": {
     "id": "0a44ef63-18ba-4327-a454-a62c46a86058",
     "prev": "b9b24b55-c959-4912-a7ce-f6fc20ad184b",
     "regions": {
      "81e5cc8f-f02c-4171-8700-1538537f7dc4": {
       "attrs": {
        "height": 0.8,
        "width": 0.8,
        "x": 0.1,
        "y": 0.1
       },
       "content": {
        "cell": "d62e6f59-ae61-41ec-80e4-69dd921a0377",
        "part": "whole"
       },
       "id": "81e5cc8f-f02c-4171-8700-1538537f7dc4"
      }
     }
    },
    "1186aac9-64ee-4e3c-abc5-9279241ec2d7": {
     "id": "1186aac9-64ee-4e3c-abc5-9279241ec2d7",
     "prev": "e68831df-cc4a-4633-a39e-2f2b101ff062",
     "regions": {
      "346a319c-5506-4a68-9665-6a9631b0b713": {
       "attrs": {
        "height": 0.8,
        "width": 0.8,
        "x": 0.1,
        "y": 0.1
       },
       "content": {
        "cell": "ffb931be-7452-4414-91b1-701d0350311d",
        "part": "whole"
       },
       "id": "346a319c-5506-4a68-9665-6a9631b0b713"
      }
     }
    },
    "12a6da93-0592-4701-a3ed-a54f0974e925": {
     "id": "12a6da93-0592-4701-a3ed-a54f0974e925",
     "prev": "56366b4f-2a25-4d6f-b86e-aa6ed1a572fa",
     "regions": {
      "e7872629-148c-48ba-96a1-f10076ed9ec1": {
       "attrs": {
        "height": 0.8,
        "width": 0.8,
        "x": 0.1,
        "y": 0.1
       },
       "content": {
        "cell": "956d8bd1-6f8e-4f07-a593-0faeec6d52f6",
        "part": "whole"
       },
       "id": "e7872629-148c-48ba-96a1-f10076ed9ec1"
      }
     }
    },
    "1692934e-02d5-462e-b4fd-4f293780eabd": {
     "id": "1692934e-02d5-462e-b4fd-4f293780eabd",
     "prev": "f6a94b54-7d1e-47c2-8fcf-f8d5dd69505a",
     "regions": {
      "cced6479-98b0-427c-8cb0-6883ecffdcd9": {
       "attrs": {
        "height": 0.8,
        "width": 0.8,
        "x": 0.1,
        "y": 0.1
       },
       "content": {
        "cell": "8fe4c91d-3f4f-47a8-bc90-d1bc42304f1e",
        "part": "whole"
       },
       "id": "cced6479-98b0-427c-8cb0-6883ecffdcd9"
      }
     }
    },
    "26bbe93b-70fe-4b55-af66-338ef1d65327": {
     "id": "26bbe93b-70fe-4b55-af66-338ef1d65327",
     "prev": "8431d2bf-5903-4305-8ea1-de4e035ca3ed",
     "regions": {
      "1dcf3a99-ca55-4dd8-977f-3981174af8b9": {
       "attrs": {
        "height": 0.8,
        "width": 0.8,
        "x": 0.1,
        "y": 0.1
       },
       "content": {
        "cell": "bbfee15d-b3ec-4936-ae0e-319783375aee",
        "part": "whole"
       },
       "id": "1dcf3a99-ca55-4dd8-977f-3981174af8b9"
      }
     }
    },
    "2d4a0f0a-f947-470e-81ab-ed4197fccdc6": {
     "id": "2d4a0f0a-f947-470e-81ab-ed4197fccdc6",
     "prev": "e7c9384e-8d06-4862-9a6a-780930bb9853",
     "regions": {
      "4d577430-9299-4878-a0f8-52fc23c61a8a": {
       "attrs": {
        "height": 0.8,
        "width": 0.8,
        "x": 0.1,
        "y": 0.1
       },
       "content": {
        "cell": "04821a13-05dd-4cd2-bd56-2912fa71d3e8",
        "part": "whole"
       },
       "id": "4d577430-9299-4878-a0f8-52fc23c61a8a"
      }
     }
    },
    "31e1dbf6-122a-4aff-93c4-7fe65fd7df81": {
     "id": "31e1dbf6-122a-4aff-93c4-7fe65fd7df81",
     "prev": "1692934e-02d5-462e-b4fd-4f293780eabd",
     "regions": {
      "de4674ae-1b9b-4ba6-a5a0-2ce398d56fdd": {
       "attrs": {
        "height": 0.8,
        "width": 0.8,
        "x": 0.1,
        "y": 0.1
       },
       "content": {
        "cell": "e4e4b066-9d2e-49e4-b073-5615d4ccf158",
        "part": "whole"
       },
       "id": "de4674ae-1b9b-4ba6-a5a0-2ce398d56fdd"
      }
     }
    },
    "34e965c0-ac02-4138-91e1-f5d7ee677e9b": {
     "id": "34e965c0-ac02-4138-91e1-f5d7ee677e9b",
     "prev": "d5a8b549-e137-4127-8877-7cb5b44e0351",
     "regions": {
      "63329b0e-ac8d-40ae-9769-a0db09c42c6c": {
       "attrs": {
        "height": 0.8,
        "width": 0.8,
        "x": 0.1,
        "y": 0.1
       },
       "content": {
        "cell": "1a7b1dc7-dfae-4e20-8cb8-c1a7af9bfb32",
        "part": "whole"
       },
       "id": "63329b0e-ac8d-40ae-9769-a0db09c42c6c"
      }
     }
    },
    "3843f511-a1c6-4085-aa6e-2bc69bf4f816": {
     "id": "3843f511-a1c6-4085-aa6e-2bc69bf4f816",
     "prev": "a681f72d-4744-4b70-90d5-a8d49606a76a",
     "regions": {
      "49773f32-6745-4630-8a45-5abe6680dfbd": {
       "attrs": {
        "height": 0.8,
        "width": 0.8,
        "x": 0.1,
        "y": 0.1
       },
       "content": {
        "cell": "fced74f7-86f9-4caa-8109-4a9a7ef2e0f4",
        "part": "whole"
       },
       "id": "49773f32-6745-4630-8a45-5abe6680dfbd"
      }
     }
    },
    "39028734-bcf4-4daa-9b99-6228702fb929": {
     "id": "39028734-bcf4-4daa-9b99-6228702fb929",
     "prev": null,
     "regions": {}
    },
    "3aad0de1-3309-42ee-9d16-b72bfe66e674": {
     "id": "3aad0de1-3309-42ee-9d16-b72bfe66e674",
     "prev": "6dddcb64-22cd-4aff-b618-98d27075fffc",
     "regions": {
      "c8bdf3d7-0d14-48bc-905c-125d036edbbc": {
       "attrs": {
        "height": 0.8,
        "width": 0.8,
        "x": 0.1,
        "y": 0.1
       },
       "content": {
        "cell": "2ef327da-fe14-49ef-b070-88f3ccef31da",
        "part": "whole"
       },
       "id": "c8bdf3d7-0d14-48bc-905c-125d036edbbc"
      }
     }
    },
    "43029087-444f-4141-b828-c73ec2f30c2a": {
     "id": "43029087-444f-4141-b828-c73ec2f30c2a",
     "prev": "076e88cf-193e-4b25-9816-c43b5adcd91b",
     "regions": {
      "e08fe886-88b1-414e-9969-bd9ce1d92197": {
       "attrs": {
        "height": 0.8,
        "width": 0.8,
        "x": 0.1,
        "y": 0.1
       },
       "content": {
        "cell": "37c59ac1-b0e5-41d4-9d1d-01652153263c",
        "part": "whole"
       },
       "id": "e08fe886-88b1-414e-9969-bd9ce1d92197"
      }
     }
    },
    "4c302b17-bdaa-49c3-acc8-d27220d35e97": {
     "id": "4c302b17-bdaa-49c3-acc8-d27220d35e97",
     "prev": "ac3bbb8f-948e-4618-83e0-543cc1d5d27a",
     "regions": {
      "b8d0b3bf-c458-46b8-aaee-5bae3e0ab306": {
       "attrs": {
        "height": 0.8,
        "width": 0.8,
        "x": 0.1,
        "y": 0.1
       },
       "content": {
        "cell": "bdfbf3b0-b4ef-4230-b560-aa9bd3230cf7",
        "part": "whole"
       },
       "id": "b8d0b3bf-c458-46b8-aaee-5bae3e0ab306"
      }
     }
    },
    "51b6859f-8cfe-476f-9fac-d81d3f7c12b6": {
     "id": "51b6859f-8cfe-476f-9fac-d81d3f7c12b6",
     "prev": "e91a111c-8e3b-428d-b807-49d16b6d59f5",
     "regions": {
      "321e3441-fe67-4ec9-bbdf-59e8982efe9d": {
       "attrs": {
        "height": 0.8,
        "width": 0.8,
        "x": 0.1,
        "y": 0.1
       },
       "content": {
        "cell": "906de3d2-aabe-4327-866e-a963aff55e49",
        "part": "whole"
       },
       "id": "321e3441-fe67-4ec9-bbdf-59e8982efe9d"
      }
     }
    },
    "523a9125-6d09-43d6-bc63-915176c1c0dc": {
     "id": "523a9125-6d09-43d6-bc63-915176c1c0dc",
     "prev": "12a6da93-0592-4701-a3ed-a54f0974e925",
     "regions": {
      "7d6c7ae4-dc0c-4b94-8b70-e7a2131317cc": {
       "attrs": {
        "height": 0.8,
        "width": 0.8,
        "x": 0.1,
        "y": 0.1
       },
       "content": {
        "cell": "b41631f8-d032-4276-b2a3-a878e981e2fc",
        "part": "whole"
       },
       "id": "7d6c7ae4-dc0c-4b94-8b70-e7a2131317cc"
      }
     }
    },
    "5291f3da-9dd6-40b8-9247-6e0c478960ad": {
     "id": "5291f3da-9dd6-40b8-9247-6e0c478960ad",
     "prev": "39028734-bcf4-4daa-9b99-6228702fb929",
     "regions": {
      "a0b430b0-1fd8-435a-8b88-0ff70bc19264": {
       "attrs": {
        "height": 0.8,
        "width": 0.8,
        "x": 0.1,
        "y": 0.1
       },
       "content": {
        "cell": "f086c6e8-7ca8-4d56-8af1-0d70fd6b866c",
        "part": "whole"
       },
       "id": "a0b430b0-1fd8-435a-8b88-0ff70bc19264"
      }
     }
    },
    "56366b4f-2a25-4d6f-b86e-aa6ed1a572fa": {
     "id": "56366b4f-2a25-4d6f-b86e-aa6ed1a572fa",
     "prev": "72031c13-221a-49c6-916b-5e55538cf744",
     "regions": {
      "b19b2c69-5e2c-4d1c-bf17-7c3a0df42275": {
       "attrs": {
        "height": 0.8,
        "width": 0.8,
        "x": 0.1,
        "y": 0.1
       },
       "content": {
        "cell": "91573eca-e231-4217-9f89-d1f3eed7c1a4",
        "part": "whole"
       },
       "id": "b19b2c69-5e2c-4d1c-bf17-7c3a0df42275"
      }
     }
    },
    "5661c0ac-156b-49f8-9a53-c7eda8ff5a59": {
     "id": "5661c0ac-156b-49f8-9a53-c7eda8ff5a59",
     "prev": "dcddeba5-08a4-403c-bd38-5c6d3985da9a",
     "regions": {
      "500f275a-d1d2-4d95-af69-f10859308882": {
       "attrs": {
        "height": 0.8,
        "width": 0.8,
        "x": 0.1,
        "y": 0.1
       },
       "content": {
        "cell": "fa7f93cb-eaa8-420c-b5a9-959940c3f5e2",
        "part": "whole"
       },
       "id": "500f275a-d1d2-4d95-af69-f10859308882"
      }
     }
    },
    "5cd923b3-b7af-4b5f-a6c6-aed9f41befb9": {
     "id": "5cd923b3-b7af-4b5f-a6c6-aed9f41befb9",
     "prev": "7c91787a-1760-4903-8e15-4c817cd41360",
     "regions": {
      "51a6d662-415b-4902-accd-82634185dcad": {
       "attrs": {
        "height": 0.8,
        "width": 0.8,
        "x": 0.1,
        "y": 0.1
       },
       "content": {
        "cell": "17f1243a-c265-438a-ba2f-b4629a90720f",
        "part": "whole"
       },
       "id": "51a6d662-415b-4902-accd-82634185dcad"
      }
     }
    },
    "61a941ca-5b92-4a2a-a8cf-ffd191403b83": {
     "id": "61a941ca-5b92-4a2a-a8cf-ffd191403b83",
     "prev": "d505076a-ad24-4dbc-881a-d84841901a03",
     "regions": {
      "1ca5df0d-875c-4d7c-be56-b22dcbbc9401": {
       "attrs": {
        "height": 0.8,
        "width": 0.8,
        "x": 0.1,
        "y": 0.1
       },
       "content": {
        "cell": "13cae043-0809-4382-9b34-6b35f41a858b",
        "part": "whole"
       },
       "id": "1ca5df0d-875c-4d7c-be56-b22dcbbc9401"
      }
     }
    },
    "66826f31-e3f5-4350-8236-4b7c9eedf76e": {
     "id": "66826f31-e3f5-4350-8236-4b7c9eedf76e",
     "prev": "87789d6b-e1a1-4b02-801f-dd013d36e9d1",
     "regions": {
      "ab5dcc70-0509-4c19-a745-972986c543e8": {
       "attrs": {
        "height": 0.8,
        "width": 0.8,
        "x": 0.1,
        "y": 0.1
       },
       "content": {
        "cell": "f85477b3-6864-4948-98f9-19517c6e2182",
        "part": "whole"
       },
       "id": "ab5dcc70-0509-4c19-a745-972986c543e8"
      }
     }
    },
    "66971f0c-e69b-40f3-9e0a-3cb3859b7ad3": {
     "id": "66971f0c-e69b-40f3-9e0a-3cb3859b7ad3",
     "prev": "02de6566-8082-40e9-bafa-b450c01b3828",
     "regions": {
      "eb88dc5c-2ea3-40f4-b2a9-2142014d8418": {
       "attrs": {
        "height": 0.8,
        "width": 0.8,
        "x": 0.1,
        "y": 0.1
       },
       "content": {
        "cell": "a9d0109d-05d5-41b8-bf4e-742246d3b2c5",
        "part": "whole"
       },
       "id": "eb88dc5c-2ea3-40f4-b2a9-2142014d8418"
      }
     }
    },
    "66e28a8f-8cbe-472b-a5ab-2769cc26c979": {
     "id": "66e28a8f-8cbe-472b-a5ab-2769cc26c979",
     "prev": "7e68b1c5-bd62-4748-8110-845a4d9b3982",
     "regions": {
      "d92fec17-7df7-4f8d-8ed9-7a2da28e02f3": {
       "attrs": {
        "height": 0.8,
        "width": 0.8,
        "x": 0.1,
        "y": 0.1
       },
       "content": {
        "cell": "776f57fe-4da5-4b04-975a-099965bd788e",
        "part": "whole"
       },
       "id": "d92fec17-7df7-4f8d-8ed9-7a2da28e02f3"
      }
     }
    },
    "675cacd9-5db2-4d24-b21a-c4ceb7c6c92d": {
     "id": "675cacd9-5db2-4d24-b21a-c4ceb7c6c92d",
     "prev": "66e28a8f-8cbe-472b-a5ab-2769cc26c979",
     "regions": {
      "ae62d65a-d283-4d98-9868-0b0143121242": {
       "attrs": {
        "height": 0.8,
        "width": 0.8,
        "x": 0.1,
        "y": 0.1
       },
       "content": {
        "cell": "dc5b50d8-bba6-4e15-8d8a-1873c46038a3",
        "part": "whole"
       },
       "id": "ae62d65a-d283-4d98-9868-0b0143121242"
      }
     }
    },
    "6cb10c56-d05a-46e3-a9b6-dd9521d0d60b": {
     "id": "6cb10c56-d05a-46e3-a9b6-dd9521d0d60b",
     "prev": "e508d39f-db24-4a11-8bae-bd51397ab97d",
     "regions": {
      "f954cb23-4bf8-4b5c-a3e0-bda9f195cb6c": {
       "attrs": {
        "height": 0.8,
        "width": 0.8,
        "x": 0.1,
        "y": 0.1
       },
       "content": {
        "cell": "4bc76f67-bef4-497c-b2c6-006b4c462458",
        "part": "whole"
       },
       "id": "f954cb23-4bf8-4b5c-a3e0-bda9f195cb6c"
      }
     }
    },
    "6dddcb64-22cd-4aff-b618-98d27075fffc": {
     "id": "6dddcb64-22cd-4aff-b618-98d27075fffc",
     "prev": "716c3e95-1653-4bc7-8138-8d284b85641f",
     "regions": {
      "1d2e2ef0-9089-4b0d-b49b-937c4960c02f": {
       "attrs": {
        "height": 0.8,
        "width": 0.8,
        "x": 0.1,
        "y": 0.1
       },
       "content": {
        "cell": "0b072757-f7c8-4534-8942-e7b61735fdb9",
        "part": "whole"
       },
       "id": "1d2e2ef0-9089-4b0d-b49b-937c4960c02f"
      }
     }
    },
    "716c3e95-1653-4bc7-8138-8d284b85641f": {
     "id": "716c3e95-1653-4bc7-8138-8d284b85641f",
     "prev": "f9c2f07f-8e6a-432b-9264-d594140dc92c",
     "regions": {
      "c6550d9c-78c9-428e-bead-49493b3e2369": {
       "attrs": {
        "height": 0.8,
        "width": 0.8,
        "x": 0.1,
        "y": 0.1
       },
       "content": {
        "cell": "53970654-91fc-44e5-aeb9-94b7a55f8298",
        "part": "whole"
       },
       "id": "c6550d9c-78c9-428e-bead-49493b3e2369"
      }
     }
    },
    "72031c13-221a-49c6-916b-5e55538cf744": {
     "id": "72031c13-221a-49c6-916b-5e55538cf744",
     "prev": "34e965c0-ac02-4138-91e1-f5d7ee677e9b",
     "regions": {
      "6318af36-5d1f-4984-9b3a-e752ef867286": {
       "attrs": {
        "height": 0.8,
        "width": 0.8,
        "x": 0.1,
        "y": 0.1
       },
       "content": {
        "cell": "174372c4-f8f5-412f-a17c-f5c58067e50e",
        "part": "whole"
       },
       "id": "6318af36-5d1f-4984-9b3a-e752ef867286"
      }
     }
    },
    "7c91787a-1760-4903-8e15-4c817cd41360": {
     "id": "7c91787a-1760-4903-8e15-4c817cd41360",
     "prev": "5661c0ac-156b-49f8-9a53-c7eda8ff5a59",
     "regions": {
      "549a1a75-0eaa-4011-b4ea-11cb21265705": {
       "attrs": {
        "height": 0.8,
        "width": 0.8,
        "x": 0.1,
        "y": 0.1
       },
       "content": {
        "cell": "387b10a9-35c7-46ed-a37d-5b1c63be5c7b",
        "part": "whole"
       },
       "id": "549a1a75-0eaa-4011-b4ea-11cb21265705"
      }
     }
    },
    "7e68b1c5-bd62-4748-8110-845a4d9b3982": {
     "id": "7e68b1c5-bd62-4748-8110-845a4d9b3982",
     "prev": "2d4a0f0a-f947-470e-81ab-ed4197fccdc6",
     "regions": {
      "1250e314-5723-46b0-95c4-1f40912b26bf": {
       "attrs": {
        "height": 0.8,
        "width": 0.8,
        "x": 0.1,
        "y": 0.1
       },
       "content": {
        "cell": "850f7d9e-6686-46c1-a290-0c71ff92533d",
        "part": "whole"
       },
       "id": "1250e314-5723-46b0-95c4-1f40912b26bf"
      }
     }
    },
    "827aaac4-abe9-48d2-bbc3-2af79bdaf8e6": {
     "id": "827aaac4-abe9-48d2-bbc3-2af79bdaf8e6",
     "prev": "f5fcf434-2f39-4e35-a3d2-08638a36dc59",
     "regions": {
      "7861a182-ea6e-4723-8d20-a6e8a71e8412": {
       "attrs": {
        "height": 0.8,
        "width": 0.8,
        "x": 0.1,
        "y": 0.1
       },
       "content": {
        "cell": "0985549b-8cfe-4284-8248-6848ad392c99",
        "part": "whole"
       },
       "id": "7861a182-ea6e-4723-8d20-a6e8a71e8412"
      }
     }
    },
    "8431d2bf-5903-4305-8ea1-de4e035ca3ed": {
     "id": "8431d2bf-5903-4305-8ea1-de4e035ca3ed",
     "prev": "944c1639-8d20-4839-b546-b2c53852be25",
     "regions": {
      "14a03a87-6f48-4b81-bb23-9208209626ca": {
       "attrs": {
        "height": 0.8,
        "width": 0.8,
        "x": 0.1,
        "y": 0.1
       },
       "content": {
        "cell": "3b85ae9d-9caf-486d-9996-ae923ff0701b",
        "part": "whole"
       },
       "id": "14a03a87-6f48-4b81-bb23-9208209626ca"
      }
     }
    },
    "856b5eee-c573-4878-8979-edb37b5ea163": {
     "id": "856b5eee-c573-4878-8979-edb37b5ea163",
     "prev": "86dcf003-484a-4191-beef-e414a64a7bad",
     "regions": {
      "d704ab0a-4fd6-4eb2-92ef-b8972d536fbf": {
       "attrs": {
        "height": 0.8,
        "width": 0.8,
        "x": 0.1,
        "y": 0.1
       },
       "content": {
        "cell": "bf65026a-5760-44fd-b033-62953c767620",
        "part": "whole"
       },
       "id": "d704ab0a-4fd6-4eb2-92ef-b8972d536fbf"
      }
     }
    },
    "86dcf003-484a-4191-beef-e414a64a7bad": {
     "id": "86dcf003-484a-4191-beef-e414a64a7bad",
     "prev": "0a44ef63-18ba-4327-a454-a62c46a86058",
     "regions": {
      "7817861a-d21a-47d0-820b-c9e780f36780": {
       "attrs": {
        "height": 0.8,
        "width": 0.8,
        "x": 0.1,
        "y": 0.1
       },
       "content": {
        "cell": "32c4fcb6-6250-4575-8f00-251d443f4e11",
        "part": "whole"
       },
       "id": "7817861a-d21a-47d0-820b-c9e780f36780"
      }
     }
    },
    "87789d6b-e1a1-4b02-801f-dd013d36e9d1": {
     "id": "87789d6b-e1a1-4b02-801f-dd013d36e9d1",
     "prev": "988443e3-bd6f-4fb7-b67d-9dc59860cfb6",
     "regions": {
      "32c874b0-0e24-4565-a12b-6e08c5733afb": {
       "attrs": {
        "height": 0.8,
        "width": 0.8,
        "x": 0.1,
        "y": 0.1
       },
       "content": {
        "cell": "c55bcb20-312f-462f-bfac-02bb86c3f125",
        "part": "whole"
       },
       "id": "32c874b0-0e24-4565-a12b-6e08c5733afb"
      }
     }
    },
    "877ebe1e-8b48-44e7-8a77-2805a8d54318": {
     "id": "877ebe1e-8b48-44e7-8a77-2805a8d54318",
     "prev": "3843f511-a1c6-4085-aa6e-2bc69bf4f816",
     "regions": {
      "006492ed-f492-421a-99d1-cc4f9452b957": {
       "attrs": {
        "height": 0.8,
        "width": 0.8,
        "x": 0.1,
        "y": 0.1
       },
       "content": {
        "cell": "8dd8e0cd-b411-40fb-9a96-1256fcb655b6",
        "part": "whole"
       },
       "id": "006492ed-f492-421a-99d1-cc4f9452b957"
      }
     }
    },
    "8a974065-cd33-4a45-879c-620f29a7ecd1": {
     "id": "8a974065-cd33-4a45-879c-620f29a7ecd1",
     "prev": "8d8470da-de2d-48f1-a285-bc5bf53d7e9a",
     "regions": {
      "93c38730-e493-4145-ac2c-85e3ae835c16": {
       "attrs": {
        "height": 0.8,
        "width": 0.8,
        "x": 0.1,
        "y": 0.1
       },
       "content": {
        "cell": "c584ba69-69cf-4c2e-b4a8-946b558f6fe8",
        "part": "whole"
       },
       "id": "93c38730-e493-4145-ac2c-85e3ae835c16"
      }
     }
    },
    "8d8470da-de2d-48f1-a285-bc5bf53d7e9a": {
     "id": "8d8470da-de2d-48f1-a285-bc5bf53d7e9a",
     "prev": "675cacd9-5db2-4d24-b21a-c4ceb7c6c92d",
     "regions": {
      "3e889580-0956-43ef-b356-7124715cc21a": {
       "attrs": {
        "height": 0.8,
        "width": 0.8,
        "x": 0.1,
        "y": 0.1
       },
       "content": {
        "cell": "79d87f4f-3b21-461e-acb6-4cc7925e5613",
        "part": "whole"
       },
       "id": "3e889580-0956-43ef-b356-7124715cc21a"
      }
     }
    },
    "90be7e05-6add-4d0b-8c37-600ba5edcb36": {
     "id": "90be7e05-6add-4d0b-8c37-600ba5edcb36",
     "prev": "d38adb55-bf0b-4535-8257-57d3f7cec751",
     "regions": {
      "b36ade70-0888-4ff1-9b11-e183b1d63a78": {
       "attrs": {
        "height": 0.8,
        "width": 0.8,
        "x": 0.1,
        "y": 0.1
       },
       "content": {
        "cell": "c637e60d-9f64-493c-bc30-f5d522ef4c2c",
        "part": "whole"
       },
       "id": "b36ade70-0888-4ff1-9b11-e183b1d63a78"
      }
     }
    },
    "944c1639-8d20-4839-b546-b2c53852be25": {
     "id": "944c1639-8d20-4839-b546-b2c53852be25",
     "prev": "66971f0c-e69b-40f3-9e0a-3cb3859b7ad3",
     "regions": {
      "5a8d7394-a3f1-4577-b4d6-ea1f1b375337": {
       "attrs": {
        "height": 0.8,
        "width": 0.8,
        "x": 0.1,
        "y": 0.1
       },
       "content": {
        "cell": "f8ad5ddc-6bcf-41c2-8b08-acd2a33247ec",
        "part": "whole"
       },
       "id": "5a8d7394-a3f1-4577-b4d6-ea1f1b375337"
      }
     }
    },
    "988443e3-bd6f-4fb7-b67d-9dc59860cfb6": {
     "id": "988443e3-bd6f-4fb7-b67d-9dc59860cfb6",
     "prev": "43029087-444f-4141-b828-c73ec2f30c2a",
     "regions": {
      "a4f71b73-6a5f-4b80-bec9-e6c2190aefd1": {
       "attrs": {
        "height": 0.8,
        "width": 0.8,
        "x": 0.1,
        "y": 0.1
       },
       "content": {
        "cell": "b5e376ae-b147-4722-a971-71ac1ced9aeb",
        "part": "whole"
       },
       "id": "a4f71b73-6a5f-4b80-bec9-e6c2190aefd1"
      }
     }
    },
    "9ce60222-a9aa-4b91-be7b-af9c1a9e772b": {
     "id": "9ce60222-a9aa-4b91-be7b-af9c1a9e772b",
     "prev": "31e1dbf6-122a-4aff-93c4-7fe65fd7df81",
     "regions": {
      "919d6bba-fd93-49fc-a2f3-9a9223d30ba0": {
       "attrs": {
        "height": 0.8,
        "width": 0.8,
        "x": 0.1,
        "y": 0.1
       },
       "content": {
        "cell": "c3229429-a4f5-4a10-ad1e-ddd85195a0be",
        "part": "whole"
       },
       "id": "919d6bba-fd93-49fc-a2f3-9a9223d30ba0"
      }
     }
    },
    "a5b79b28-b95c-4d68-8dec-750d44578d25": {
     "id": "a5b79b28-b95c-4d68-8dec-750d44578d25",
     "prev": "f3c3d9b8-52be-468c-a2b4-cf20c2009d87",
     "regions": {
      "d8f38db8-99c8-4118-a250-1cef927a82ec": {
       "attrs": {
        "height": 0.8,
        "width": 0.8,
        "x": 0.1,
        "y": 0.1
       },
       "content": {
        "cell": "00a8ba09-f84a-4277-b5a7-d2bc791fe624",
        "part": "whole"
       },
       "id": "d8f38db8-99c8-4118-a250-1cef927a82ec"
      }
     }
    },
    "a681f72d-4744-4b70-90d5-a8d49606a76a": {
     "id": "a681f72d-4744-4b70-90d5-a8d49606a76a",
     "prev": "827aaac4-abe9-48d2-bbc3-2af79bdaf8e6",
     "regions": {
      "e3f94bfb-5344-453e-9067-ba4dd6808b93": {
       "attrs": {
        "height": 0.8,
        "width": 0.8,
        "x": 0.1,
        "y": 0.1
       },
       "content": {
        "cell": "35a3aed6-ae1e-4b3f-9fdd-6a2f15f83a17",
        "part": "whole"
       },
       "id": "e3f94bfb-5344-453e-9067-ba4dd6808b93"
      }
     }
    },
    "ac3bbb8f-948e-4618-83e0-543cc1d5d27a": {
     "id": "ac3bbb8f-948e-4618-83e0-543cc1d5d27a",
     "prev": "9ce60222-a9aa-4b91-be7b-af9c1a9e772b",
     "regions": {
      "17805ee1-5e45-45e9-9e28-97992d8233e3": {
       "attrs": {
        "height": 0.8,
        "width": 0.8,
        "x": 0.1,
        "y": 0.1
       },
       "content": {
        "cell": "aca0c976-31ce-4614-bee5-3064457dc5e0",
        "part": "whole"
       },
       "id": "17805ee1-5e45-45e9-9e28-97992d8233e3"
      }
     }
    },
    "b9b24b55-c959-4912-a7ce-f6fc20ad184b": {
     "id": "b9b24b55-c959-4912-a7ce-f6fc20ad184b",
     "prev": "a5b79b28-b95c-4d68-8dec-750d44578d25",
     "regions": {
      "3d5ad1b3-be7c-4044-958b-566d045b1b10": {
       "attrs": {
        "height": 0.8,
        "width": 0.8,
        "x": 0.1,
        "y": 0.1
       },
       "content": {
        "cell": "b6021c2f-4760-48e0-a86c-feb2a50b3791",
        "part": "whole"
       },
       "id": "3d5ad1b3-be7c-4044-958b-566d045b1b10"
      }
     }
    },
    "c10162d8-3fd7-4db2-bc97-98d6e612b809": {
     "id": "c10162d8-3fd7-4db2-bc97-98d6e612b809",
     "prev": "1186aac9-64ee-4e3c-abc5-9279241ec2d7",
     "regions": {
      "c5cde4e8-64a5-4152-8035-2cfb086e6ec6": {
       "attrs": {
        "height": 0.8,
        "width": 0.8,
        "x": 0.1,
        "y": 0.1
       },
       "content": {
        "cell": "6ec63bea-053d-440e-9e5f-7daa54e2be09",
        "part": "whole"
       },
       "id": "c5cde4e8-64a5-4152-8035-2cfb086e6ec6"
      }
     }
    },
    "c11ff1f7-2467-4adb-b844-4e1bc08313fd": {
     "id": "c11ff1f7-2467-4adb-b844-4e1bc08313fd",
     "prev": "d8cd0b78-805f-4604-98e6-c41608e11021",
     "regions": {
      "20ed2e29-5bb7-49ce-806a-b8956e3e5162": {
       "attrs": {
        "height": 0.8,
        "width": 0.8,
        "x": 0.1,
        "y": 0.1
       },
       "content": {
        "cell": "31c4caa3-a819-435c-84d1-cbc6b2435a20",
        "part": "whole"
       },
       "id": "20ed2e29-5bb7-49ce-806a-b8956e3e5162"
      }
     }
    },
    "c507e317-9f60-43c2-8844-81bc64f6ce36": {
     "id": "c507e317-9f60-43c2-8844-81bc64f6ce36",
     "prev": "6cb10c56-d05a-46e3-a9b6-dd9521d0d60b",
     "regions": {
      "2872daf2-380c-46d6-a4ab-c26385fa22ad": {
       "attrs": {
        "height": 0.8,
        "width": 0.8,
        "x": 0.1,
        "y": 0.1
       },
       "content": {
        "cell": "5c4f24db-f910-45a9-9a0a-f7bdeb6ed758",
        "part": "whole"
       },
       "id": "2872daf2-380c-46d6-a4ab-c26385fa22ad"
      }
     }
    },
    "cf154407-7718-4462-9fae-c1ae73cf539a": {
     "id": "cf154407-7718-4462-9fae-c1ae73cf539a",
     "prev": "fb4249a3-aaff-4039-8526-6412f6ac0608",
     "regions": {
      "b6708e81-0363-4585-a7a9-e1b1c0409c22": {
       "attrs": {
        "height": 0.8,
        "width": 0.8,
        "x": 0.1,
        "y": 0.1
       },
       "content": {
        "cell": "2620149a-9b9c-401b-b027-76808a24ca97",
        "part": "whole"
       },
       "id": "b6708e81-0363-4585-a7a9-e1b1c0409c22"
      }
     }
    },
    "d2982312-4c14-41f7-a753-212c82722747": {
     "id": "d2982312-4c14-41f7-a753-212c82722747",
     "prev": "e7e246d7-4383-4ca4-9101-73ae03674ac2",
     "regions": {
      "2e28fb12-0d65-4bc7-9b09-0c2da1d33647": {
       "attrs": {
        "height": 0.8,
        "width": 0.8,
        "x": 0.1,
        "y": 0.1
       },
       "content": {
        "cell": "ffc56a81-01dc-41ab-9819-82c1002d2231",
        "part": "whole"
       },
       "id": "2e28fb12-0d65-4bc7-9b09-0c2da1d33647"
      }
     }
    },
    "d38adb55-bf0b-4535-8257-57d3f7cec751": {
     "id": "d38adb55-bf0b-4535-8257-57d3f7cec751",
     "prev": "d2982312-4c14-41f7-a753-212c82722747",
     "regions": {
      "005f9f3e-ca16-4dc8-b7fa-e5087bc41802": {
       "attrs": {
        "height": 0.8,
        "width": 0.8,
        "x": 0.1,
        "y": 0.1
       },
       "content": {
        "cell": "5a05a1a6-3da5-4ece-bc84-4f0c77466a51",
        "part": "whole"
       },
       "id": "005f9f3e-ca16-4dc8-b7fa-e5087bc41802"
      }
     }
    },
    "d505076a-ad24-4dbc-881a-d84841901a03": {
     "id": "d505076a-ad24-4dbc-881a-d84841901a03",
     "prev": "26bbe93b-70fe-4b55-af66-338ef1d65327",
     "regions": {
      "cf7cf59e-04ca-49b7-b34d-59543a90cdea": {
       "attrs": {
        "height": 0.8,
        "width": 0.8,
        "x": 0.1,
        "y": 0.1
       },
       "content": {
        "cell": "cd3e63bf-bf8c-4e67-af04-b3431ce1759a",
        "part": "whole"
       },
       "id": "cf7cf59e-04ca-49b7-b34d-59543a90cdea"
      }
     }
    },
    "d5a8b549-e137-4127-8877-7cb5b44e0351": {
     "id": "d5a8b549-e137-4127-8877-7cb5b44e0351",
     "prev": "c10162d8-3fd7-4db2-bc97-98d6e612b809",
     "regions": {
      "a9a0839b-ebdd-4fde-b5a1-c453f7acb360": {
       "attrs": {
        "height": 0.8,
        "width": 0.8,
        "x": 0.1,
        "y": 0.1
       },
       "content": {
        "cell": "dd441c3a-5e08-4852-a18d-8c3ba5e4bcf6",
        "part": "whole"
       },
       "id": "a9a0839b-ebdd-4fde-b5a1-c453f7acb360"
      }
     }
    },
    "d8cd0b78-805f-4604-98e6-c41608e11021": {
     "id": "d8cd0b78-805f-4604-98e6-c41608e11021",
     "prev": "4c302b17-bdaa-49c3-acc8-d27220d35e97",
     "regions": {
      "bfe248b8-a76a-4d45-be68-291b376c6452": {
       "attrs": {
        "height": 0.8,
        "width": 0.8,
        "x": 0.1,
        "y": 0.1
       },
       "content": {
        "cell": "b08e8ad9-3a02-48b3-b14b-d4b81871180d",
        "part": "whole"
       },
       "id": "bfe248b8-a76a-4d45-be68-291b376c6452"
      }
     }
    },
    "dc4ed998-cd01-4cbc-aa04-fc60d9a088f3": {
     "id": "dc4ed998-cd01-4cbc-aa04-fc60d9a088f3",
     "prev": "51b6859f-8cfe-476f-9fac-d81d3f7c12b6",
     "regions": {
      "11a0d896-f5ac-41bf-9cdb-6c065ab3b8a5": {
       "attrs": {
        "height": 0.8,
        "width": 0.8,
        "x": 0.1,
        "y": 0.1
       },
       "content": {
        "cell": "2b8113a5-98ab-480d-b527-5b3d22e08268",
        "part": "whole"
       },
       "id": "11a0d896-f5ac-41bf-9cdb-6c065ab3b8a5"
      }
     }
    },
    "dcddeba5-08a4-403c-bd38-5c6d3985da9a": {
     "id": "dcddeba5-08a4-403c-bd38-5c6d3985da9a",
     "prev": "c11ff1f7-2467-4adb-b844-4e1bc08313fd",
     "regions": {
      "d5a94141-3ffc-43f5-99c7-4174587ff685": {
       "attrs": {
        "height": 0.8,
        "width": 0.8,
        "x": 0.1,
        "y": 0.1
       },
       "content": {
        "cell": "5a126219-1da7-4f14-aeb2-21d4946f4b54",
        "part": "whole"
       },
       "id": "d5a94141-3ffc-43f5-99c7-4174587ff685"
      }
     }
    },
    "e426a612-7962-44bd-a2cb-0b939d8a67b0": {
     "id": "e426a612-7962-44bd-a2cb-0b939d8a67b0",
     "prev": "5291f3da-9dd6-40b8-9247-6e0c478960ad",
     "regions": {
      "21fb1b9d-5476-48af-be9f-ccde4ee3cfa1": {
       "attrs": {
        "height": 0.8,
        "width": 0.8,
        "x": 0.1,
        "y": 0.1
       },
       "content": {
        "cell": "52aeea0e-9d9e-4841-94ec-1cbf8442c142",
        "part": "whole"
       },
       "id": "21fb1b9d-5476-48af-be9f-ccde4ee3cfa1"
      }
     }
    },
    "e508d39f-db24-4a11-8bae-bd51397ab97d": {
     "id": "e508d39f-db24-4a11-8bae-bd51397ab97d",
     "prev": "877ebe1e-8b48-44e7-8a77-2805a8d54318",
     "regions": {
      "27528751-d639-4644-8f5e-3c496879f03f": {
       "attrs": {
        "height": 0.8,
        "width": 0.8,
        "x": 0.1,
        "y": 0.1
       },
       "content": {
        "cell": "6e747bdf-e2db-49df-9a33-67b0849cc424",
        "part": "whole"
       },
       "id": "27528751-d639-4644-8f5e-3c496879f03f"
      }
     }
    },
    "e68831df-cc4a-4633-a39e-2f2b101ff062": {
     "id": "e68831df-cc4a-4633-a39e-2f2b101ff062",
     "prev": "61a941ca-5b92-4a2a-a8cf-ffd191403b83",
     "regions": {
      "d06abb41-2cee-4eaf-9a80-12d4cea18d22": {
       "attrs": {
        "height": 0.8,
        "width": 0.8,
        "x": 0.1,
        "y": 0.1
       },
       "content": {
        "cell": "f39bb09a-ad46-4721-b0b5-d5be93e796e5",
        "part": "whole"
       },
       "id": "d06abb41-2cee-4eaf-9a80-12d4cea18d22"
      }
     }
    },
    "e7c9384e-8d06-4862-9a6a-780930bb9853": {
     "id": "e7c9384e-8d06-4862-9a6a-780930bb9853",
     "prev": "856b5eee-c573-4878-8979-edb37b5ea163",
     "regions": {
      "42c3d1fe-09c8-4da5-99bb-507f339572bc": {
       "attrs": {
        "height": 0.8,
        "width": 0.8,
        "x": 0.1,
        "y": 0.1
       },
       "content": {
        "cell": "3a886bf3-9c21-4ff6-a695-3b7484dafc2f",
        "part": "whole"
       },
       "id": "42c3d1fe-09c8-4da5-99bb-507f339572bc"
      }
     }
    },
    "e7e246d7-4383-4ca4-9101-73ae03674ac2": {
     "id": "e7e246d7-4383-4ca4-9101-73ae03674ac2",
     "prev": "cf154407-7718-4462-9fae-c1ae73cf539a",
     "regions": {
      "b054e318-1ea1-4407-8547-667673bedccc": {
       "attrs": {
        "height": 0.8,
        "width": 0.8,
        "x": 0.1,
        "y": 0.1
       },
       "content": {
        "cell": "3f4c2747-6281-425f-af93-7b5a947194a5",
        "part": "whole"
       },
       "id": "b054e318-1ea1-4407-8547-667673bedccc"
      }
     }
    },
    "e91a111c-8e3b-428d-b807-49d16b6d59f5": {
     "id": "e91a111c-8e3b-428d-b807-49d16b6d59f5",
     "prev": "90be7e05-6add-4d0b-8c37-600ba5edcb36",
     "regions": {
      "14729b44-1d21-4202-88f2-3594fa75db8f": {
       "attrs": {
        "height": 0.8,
        "width": 0.8,
        "x": 0.1,
        "y": 0.1
       },
       "content": {
        "cell": "16cbc4dc-f03e-49d6-9346-6f165a27c5a7",
        "part": "whole"
       },
       "id": "14729b44-1d21-4202-88f2-3594fa75db8f"
      }
     }
    },
    "f215c533-5be9-4916-a330-d94637235b58": {
     "id": "f215c533-5be9-4916-a330-d94637235b58",
     "prev": "66826f31-e3f5-4350-8236-4b7c9eedf76e",
     "regions": {
      "6211ff9f-386b-41b1-a58c-76352dd55443": {
       "attrs": {
        "height": 0.8,
        "width": 0.8,
        "x": 0.1,
        "y": 0.1
       },
       "content": {
        "cell": "1508b642-4dfd-4609-819e-a54180f960bb",
        "part": "whole"
       },
       "id": "6211ff9f-386b-41b1-a58c-76352dd55443"
      }
     }
    },
    "f3c3d9b8-52be-468c-a2b4-cf20c2009d87": {
     "id": "f3c3d9b8-52be-468c-a2b4-cf20c2009d87",
     "prev": "5cd923b3-b7af-4b5f-a6c6-aed9f41befb9",
     "regions": {
      "6d8ade4c-9335-4452-9c61-10195700df9f": {
       "attrs": {
        "height": 0.8,
        "width": 0.8,
        "x": 0.1,
        "y": 0.1
       },
       "content": {
        "cell": "b6f49029-4efd-4a55-bde3-104dd2b0c4ab",
        "part": "whole"
       },
       "id": "6d8ade4c-9335-4452-9c61-10195700df9f"
      }
     }
    },
    "f5fcf434-2f39-4e35-a3d2-08638a36dc59": {
     "id": "f5fcf434-2f39-4e35-a3d2-08638a36dc59",
     "prev": "523a9125-6d09-43d6-bc63-915176c1c0dc",
     "regions": {
      "c3ffd0ec-06e3-41db-837b-1b17e53e0742": {
       "attrs": {
        "height": 0.8,
        "width": 0.8,
        "x": 0.1,
        "y": 0.1
       },
       "content": {
        "cell": "c586203e-2053-4e29-8f2a-b25ae77ed3ed",
        "part": "whole"
       },
       "id": "c3ffd0ec-06e3-41db-837b-1b17e53e0742"
      }
     }
    },
    "f6a94b54-7d1e-47c2-8fcf-f8d5dd69505a": {
     "id": "f6a94b54-7d1e-47c2-8fcf-f8d5dd69505a",
     "prev": "e426a612-7962-44bd-a2cb-0b939d8a67b0",
     "regions": {
      "9787195c-fbc6-4232-869e-b3f6e1d3a26d": {
       "attrs": {
        "height": 0.8,
        "width": 0.8,
        "x": 0.1,
        "y": 0.1
       },
       "content": {
        "cell": "4f05e84d-b47a-4d6c-a35e-0ad7db7ca69a",
        "part": "whole"
       },
       "id": "9787195c-fbc6-4232-869e-b3f6e1d3a26d"
      }
     }
    },
    "f9c2f07f-8e6a-432b-9264-d594140dc92c": {
     "id": "f9c2f07f-8e6a-432b-9264-d594140dc92c",
     "prev": "dc4ed998-cd01-4cbc-aa04-fc60d9a088f3",
     "regions": {
      "85968ed4-1e1f-4de7-a24b-34b0f8b5c3f1": {
       "attrs": {
        "height": 0.8,
        "width": 0.8,
        "x": 0.1,
        "y": 0.1
       },
       "content": {
        "cell": "6f2233bf-3995-4d69-bb88-ba8e3e3ddbf6",
        "part": "whole"
       },
       "id": "85968ed4-1e1f-4de7-a24b-34b0f8b5c3f1"
      }
     }
    },
    "fb4249a3-aaff-4039-8526-6412f6ac0608": {
     "id": "fb4249a3-aaff-4039-8526-6412f6ac0608",
     "prev": "8a974065-cd33-4a45-879c-620f29a7ecd1",
     "regions": {
      "fa382ac3-180e-4ad2-8036-611ea38d1cd9": {
       "attrs": {
        "height": 0.8,
        "width": 0.8,
        "x": 0.1,
        "y": 0.1
       },
       "content": {
        "cell": "8f818bab-647d-40c6-808c-1123bc9bce78",
        "part": "whole"
       },
       "id": "fa382ac3-180e-4ad2-8036-611ea38d1cd9"
      }
     }
    }
   },
   "themes": {}
  },
  "toc": {
   "base_numbering": 1,
   "nav_menu": {},
   "number_sections": true,
   "sideBar": true,
   "skip_h1_title": false,
   "title_cell": "Table of Contents",
   "title_sidebar": "Contents",
   "toc_cell": false,
   "toc_position": {},
   "toc_section_display": true,
   "toc_window_display": false
  },
  "varInspector": {
   "cols": {
    "lenName": 16,
    "lenType": 16,
    "lenVar": 40
   },
   "kernels_config": {
    "python": {
     "delete_cmd_postfix": "",
     "delete_cmd_prefix": "del ",
     "library": "var_list.py",
     "varRefreshCmd": "print(var_dic_list())"
    },
    "r": {
     "delete_cmd_postfix": ") ",
     "delete_cmd_prefix": "rm(",
     "library": "var_list.r",
     "varRefreshCmd": "cat(var_dic_list()) "
    }
   },
   "types_to_exclude": [
    "module",
    "function",
    "builtin_function_or_method",
    "instance",
    "_Feature"
   ],
   "window_display": false
  }
 },
 "nbformat": 4,
 "nbformat_minor": 2
}
